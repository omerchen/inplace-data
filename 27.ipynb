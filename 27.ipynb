{
 "cells": [
  {
   "cell_type": "markdown",
   "id": "3fbda383-8f57-4be8-a3ab-4575fd3b0df0",
   "metadata": {
    "tags": []
   },
   "source": [
    "# EDA projerct\n"
   ]
  },
  {
   "cell_type": "code",
   "execution_count": 1,
   "id": "44a3db11-33c5-46d9-ac59-d95e7e7fa03b",
   "metadata": {
    "tags": []
   },
   "outputs": [],
   "source": [
    "import pandas as pd\n",
    "import numpy as np\n",
    "import matplotlib.pyplot as plt\n",
    "import seaborn as sns\n"
   ]
  },
  {
   "cell_type": "markdown",
   "id": "0ddc36f5-672f-45b3-b35d-ffeb43e38821",
   "metadata": {},
   "source": [
    "# Influencer company 27\n",
    "שמות הקבוצה: עמית טיקוצ'ינסקי, רננה קינן וקובי קראדי"
   ]
  },
  {
   "cell_type": "markdown",
   "id": "2bd8ae8e-8645-4d12-89a7-706715e598b7",
   "metadata": {},
   "source": [
    "דאטה של חברת סטרטאפ המתעסקת בפרסום עסקים ע\"י שיתוף סטורי באינסטגרם של משפיעני רשת. המשפענים מעלים סטורי תמורת מתנות מאותה חברה. הרווחים של החברת הסטרטאפ הם מעמלות העסקאות "
   ]
  },
  {
   "cell_type": "markdown",
   "id": "aab9df6c-064b-49cb-9451-2085afb738b6",
   "metadata": {},
   "source": [
    "<img src=\"https://cdn2.avada.io/media/resources/V1DnoNc.jpg\" width=\"600\"/>"
   ]
  },
  {
   "cell_type": "code",
   "execution_count": 2,
   "id": "bc757d38-d3de-4d73-87a7-db3841b78142",
   "metadata": {},
   "outputs": [],
   "source": [
    "url = 'https://raw.githubusercontent.com/kobykarady/myproject1/main/newData.csv'\n",
    "data_in = pd.read_csv(url)"
   ]
  },
  {
   "cell_type": "code",
   "execution_count": 3,
   "id": "7779f718-718d-4638-b489-e4dd3eefbcb2",
   "metadata": {},
   "outputs": [
    {
     "data": {
      "text/html": [
       "<div>\n",
       "<style scoped>\n",
       "    .dataframe tbody tr th:only-of-type {\n",
       "        vertical-align: middle;\n",
       "    }\n",
       "\n",
       "    .dataframe tbody tr th {\n",
       "        vertical-align: top;\n",
       "    }\n",
       "\n",
       "    .dataframe thead th {\n",
       "        text-align: right;\n",
       "    }\n",
       "</style>\n",
       "<table border=\"1\" class=\"dataframe\">\n",
       "  <thead>\n",
       "    <tr style=\"text-align: right;\">\n",
       "      <th></th>\n",
       "      <th>VisitId</th>\n",
       "      <th>InfluencerId</th>\n",
       "      <th>BusinessId</th>\n",
       "      <th>BrandId</th>\n",
       "      <th>Date</th>\n",
       "      <th>Hour</th>\n",
       "      <th>Weekday</th>\n",
       "      <th>Level</th>\n",
       "      <th>Status</th>\n",
       "      <th>Gender</th>\n",
       "      <th>...</th>\n",
       "      <th>Age</th>\n",
       "      <th>LoginsBeforeDeal</th>\n",
       "      <th>City</th>\n",
       "      <th>Long</th>\n",
       "      <th>Lat</th>\n",
       "      <th>Fashion</th>\n",
       "      <th>Beauty</th>\n",
       "      <th>Foody</th>\n",
       "      <th>Sport</th>\n",
       "      <th>Model</th>\n",
       "    </tr>\n",
       "  </thead>\n",
       "  <tbody>\n",
       "    <tr>\n",
       "      <th>0</th>\n",
       "      <td>JZusiD47LQXpClSOZ2Cg</td>\n",
       "      <td>1975810889</td>\n",
       "      <td>ej1DBVA98tHV6xZIyJMP</td>\n",
       "      <td>Nfgn9c4Q8iOWrkdLaBdF</td>\n",
       "      <td>12-31-2021</td>\n",
       "      <td>22</td>\n",
       "      <td>5</td>\n",
       "      <td>20</td>\n",
       "      <td>1</td>\n",
       "      <td>1</td>\n",
       "      <td>...</td>\n",
       "      <td>27</td>\n",
       "      <td>33</td>\n",
       "      <td>תל אביב-יפו</td>\n",
       "      <td>34.774493</td>\n",
       "      <td>32.062645</td>\n",
       "      <td>0</td>\n",
       "      <td>0</td>\n",
       "      <td>2</td>\n",
       "      <td>0</td>\n",
       "      <td>2</td>\n",
       "    </tr>\n",
       "    <tr>\n",
       "      <th>1</th>\n",
       "      <td>2tYv2pf0Ks1xKi0b2Wm1</td>\n",
       "      <td>221790070</td>\n",
       "      <td>ej1DBVA98tHV6xZIyJMP</td>\n",
       "      <td>Nfgn9c4Q8iOWrkdLaBdF</td>\n",
       "      <td>12-31-2021</td>\n",
       "      <td>22</td>\n",
       "      <td>5</td>\n",
       "      <td>40</td>\n",
       "      <td>2</td>\n",
       "      <td>1</td>\n",
       "      <td>...</td>\n",
       "      <td>21</td>\n",
       "      <td>189</td>\n",
       "      <td>תל אביב-יפו</td>\n",
       "      <td>34.774493</td>\n",
       "      <td>32.062645</td>\n",
       "      <td>2</td>\n",
       "      <td>0</td>\n",
       "      <td>2</td>\n",
       "      <td>0</td>\n",
       "      <td>0</td>\n",
       "    </tr>\n",
       "    <tr>\n",
       "      <th>2</th>\n",
       "      <td>sy1ixUggxZDcwRdMOWeq</td>\n",
       "      <td>282367579</td>\n",
       "      <td>edfi5D5TbquWiC4jjFqW</td>\n",
       "      <td>W84OVIV0q7ERGP8xa8o6</td>\n",
       "      <td>12-31-2021</td>\n",
       "      <td>22</td>\n",
       "      <td>5</td>\n",
       "      <td>20</td>\n",
       "      <td>1</td>\n",
       "      <td>1</td>\n",
       "      <td>...</td>\n",
       "      <td>27</td>\n",
       "      <td>82</td>\n",
       "      <td>תל אביב-יפו</td>\n",
       "      <td>34.772880</td>\n",
       "      <td>32.063114</td>\n",
       "      <td>2</td>\n",
       "      <td>0</td>\n",
       "      <td>2</td>\n",
       "      <td>0</td>\n",
       "      <td>0</td>\n",
       "    </tr>\n",
       "    <tr>\n",
       "      <th>3</th>\n",
       "      <td>53t5YGCJXAsFckSljBeE</td>\n",
       "      <td>282367579</td>\n",
       "      <td>tUB85hi8UtnHBmIQJBoo</td>\n",
       "      <td>RaogcDulcpkeJ1FY5UHP</td>\n",
       "      <td>12-31-2021</td>\n",
       "      <td>22</td>\n",
       "      <td>5</td>\n",
       "      <td>20</td>\n",
       "      <td>1</td>\n",
       "      <td>1</td>\n",
       "      <td>...</td>\n",
       "      <td>27</td>\n",
       "      <td>82</td>\n",
       "      <td>תל אביב-יפו</td>\n",
       "      <td>34.773504</td>\n",
       "      <td>32.063855</td>\n",
       "      <td>2</td>\n",
       "      <td>0</td>\n",
       "      <td>0</td>\n",
       "      <td>0</td>\n",
       "      <td>0</td>\n",
       "    </tr>\n",
       "    <tr>\n",
       "      <th>4</th>\n",
       "      <td>gfwGBUMNqf9oS7aEHY8Q</td>\n",
       "      <td>462261225</td>\n",
       "      <td>edfi5D5TbquWiC4jjFqW</td>\n",
       "      <td>W84OVIV0q7ERGP8xa8o6</td>\n",
       "      <td>12-31-2021</td>\n",
       "      <td>22</td>\n",
       "      <td>5</td>\n",
       "      <td>20</td>\n",
       "      <td>1</td>\n",
       "      <td>1</td>\n",
       "      <td>...</td>\n",
       "      <td>24</td>\n",
       "      <td>4</td>\n",
       "      <td>תל אביב-יפו</td>\n",
       "      <td>34.772880</td>\n",
       "      <td>32.063114</td>\n",
       "      <td>0</td>\n",
       "      <td>0</td>\n",
       "      <td>2</td>\n",
       "      <td>0</td>\n",
       "      <td>0</td>\n",
       "    </tr>\n",
       "  </tbody>\n",
       "</table>\n",
       "<p>5 rows × 22 columns</p>\n",
       "</div>"
      ],
      "text/plain": [
       "                VisitId  InfluencerId            BusinessId  \\\n",
       "0  JZusiD47LQXpClSOZ2Cg    1975810889  ej1DBVA98tHV6xZIyJMP   \n",
       "1  2tYv2pf0Ks1xKi0b2Wm1     221790070  ej1DBVA98tHV6xZIyJMP   \n",
       "2  sy1ixUggxZDcwRdMOWeq     282367579  edfi5D5TbquWiC4jjFqW   \n",
       "3  53t5YGCJXAsFckSljBeE     282367579  tUB85hi8UtnHBmIQJBoo   \n",
       "4  gfwGBUMNqf9oS7aEHY8Q     462261225  edfi5D5TbquWiC4jjFqW   \n",
       "\n",
       "                BrandId        Date  Hour  Weekday  Level  Status  Gender  \\\n",
       "0  Nfgn9c4Q8iOWrkdLaBdF  12-31-2021    22        5     20       1       1   \n",
       "1  Nfgn9c4Q8iOWrkdLaBdF  12-31-2021    22        5     40       2       1   \n",
       "2  W84OVIV0q7ERGP8xa8o6  12-31-2021    22        5     20       1       1   \n",
       "3  RaogcDulcpkeJ1FY5UHP  12-31-2021    22        5     20       1       1   \n",
       "4  W84OVIV0q7ERGP8xa8o6  12-31-2021    22        5     20       1       1   \n",
       "\n",
       "   ...  Age  LoginsBeforeDeal         City       Long        Lat  Fashion  \\\n",
       "0  ...   27                33  תל אביב-יפו  34.774493  32.062645        0   \n",
       "1  ...   21               189  תל אביב-יפו  34.774493  32.062645        2   \n",
       "2  ...   27                82  תל אביב-יפו  34.772880  32.063114        2   \n",
       "3  ...   27                82  תל אביב-יפו  34.773504  32.063855        2   \n",
       "4  ...   24                 4  תל אביב-יפו  34.772880  32.063114        0   \n",
       "\n",
       "   Beauty  Foody  Sport  Model  \n",
       "0       0      2      0      2  \n",
       "1       0      2      0      0  \n",
       "2       0      2      0      0  \n",
       "3       0      0      0      0  \n",
       "4       0      2      0      0  \n",
       "\n",
       "[5 rows x 22 columns]"
      ]
     },
     "execution_count": 3,
     "metadata": {},
     "output_type": "execute_result"
    }
   ],
   "source": [
    "data_in.head()"
   ]
  },
  {
   "cell_type": "markdown",
   "id": "7519c461-cbaf-4369-9acb-d03dfec349a6",
   "metadata": {
    "jp-MarkdownHeadingCollapsed": true,
    "tags": []
   },
   "source": [
    "---\n",
    "### 1. Wrangling data"
   ]
  },
  {
   "cell_type": "code",
   "execution_count": 4,
   "id": "84ae56e1-0312-451d-8648-9bf7744531a6",
   "metadata": {},
   "outputs": [
    {
     "data": {
      "text/plain": [
       "VisitId              object\n",
       "InfluencerId          int64\n",
       "BusinessId           object\n",
       "BrandId              object\n",
       "Date                 object\n",
       "Hour                  int64\n",
       "Weekday               int64\n",
       "Level                 int64\n",
       "Status                int64\n",
       "Gender                int64\n",
       "Followers             int64\n",
       "Engagement            int64\n",
       "Age                   int64\n",
       "LoginsBeforeDeal      int64\n",
       "City                 object\n",
       "Long                float64\n",
       "Lat                 float64\n",
       "Fashion               int64\n",
       "Beauty                int64\n",
       "Foody                 int64\n",
       "Sport                 int64\n",
       "Model                 int64\n",
       "dtype: object"
      ]
     },
     "execution_count": 4,
     "metadata": {},
     "output_type": "execute_result"
    }
   ],
   "source": [
    "data_in.dtypes"
   ]
  },
  {
   "cell_type": "markdown",
   "id": "79387ea8-80cb-469c-bb39-4bd112f56b5a",
   "metadata": {},
   "source": [
    "שינוי עמודות מין וימים לקטגורית סוג אובגקט"
   ]
  },
  {
   "cell_type": "code",
   "execution_count": 5,
   "id": "6738e898-e2e9-457b-a6f8-b76f90c585b4",
   "metadata": {},
   "outputs": [],
   "source": [
    "data_in['Gender'] = data_in['Gender'].replace([0],'Male')\n",
    "data_in['Gender'] = data_in['Gender'].replace([1],'Female')\n",
    "data_in['Gender'] = data_in['Gender'].replace([2],'No_sex')"
   ]
  },
  {
   "cell_type": "markdown",
   "id": "c67117f4-b17e-4fee-a206-8160e6be8aec",
   "metadata": {},
   "source": [
    "שינוי ימים:"
   ]
  },
  {
   "cell_type": "code",
   "execution_count": 6,
   "id": "ca146b11-2400-4af7-9876-d57b304a3c8f",
   "metadata": {},
   "outputs": [],
   "source": [
    "data_in['Weekday'] = data_in['Weekday'].replace([0],\"Sun\")\n",
    "data_in['Weekday'] = data_in['Weekday'].replace([1],'Mon')\n",
    "data_in['Weekday'] = data_in['Weekday'].replace([2],'Tue')\n",
    "data_in['Weekday'] = data_in['Weekday'].replace([3],'Wed')\n",
    "data_in['Weekday'] = data_in['Weekday'].replace([4],'Thu')\n",
    "data_in['Weekday'] = data_in['Weekday'].replace([5],'Fri')\n",
    "data_in['Weekday'] = data_in['Weekday'].replace([6],'Sat')"
   ]
  },
  {
   "cell_type": "markdown",
   "id": "a7002630-d686-42f6-8b84-8b03ba7c44fa",
   "metadata": {},
   "source": [
    "בדיקה"
   ]
  },
  {
   "cell_type": "code",
   "execution_count": 7,
   "id": "04ad6674-5a86-42c8-9a2f-f1c5dd6180ec",
   "metadata": {},
   "outputs": [
    {
     "data": {
      "text/html": [
       "<div>\n",
       "<style scoped>\n",
       "    .dataframe tbody tr th:only-of-type {\n",
       "        vertical-align: middle;\n",
       "    }\n",
       "\n",
       "    .dataframe tbody tr th {\n",
       "        vertical-align: top;\n",
       "    }\n",
       "\n",
       "    .dataframe thead th {\n",
       "        text-align: right;\n",
       "    }\n",
       "</style>\n",
       "<table border=\"1\" class=\"dataframe\">\n",
       "  <thead>\n",
       "    <tr style=\"text-align: right;\">\n",
       "      <th></th>\n",
       "      <th>VisitId</th>\n",
       "      <th>InfluencerId</th>\n",
       "      <th>BusinessId</th>\n",
       "      <th>BrandId</th>\n",
       "      <th>Date</th>\n",
       "      <th>Hour</th>\n",
       "      <th>Weekday</th>\n",
       "      <th>Level</th>\n",
       "      <th>Status</th>\n",
       "      <th>Gender</th>\n",
       "      <th>...</th>\n",
       "      <th>Age</th>\n",
       "      <th>LoginsBeforeDeal</th>\n",
       "      <th>City</th>\n",
       "      <th>Long</th>\n",
       "      <th>Lat</th>\n",
       "      <th>Fashion</th>\n",
       "      <th>Beauty</th>\n",
       "      <th>Foody</th>\n",
       "      <th>Sport</th>\n",
       "      <th>Model</th>\n",
       "    </tr>\n",
       "  </thead>\n",
       "  <tbody>\n",
       "    <tr>\n",
       "      <th>0</th>\n",
       "      <td>JZusiD47LQXpClSOZ2Cg</td>\n",
       "      <td>1975810889</td>\n",
       "      <td>ej1DBVA98tHV6xZIyJMP</td>\n",
       "      <td>Nfgn9c4Q8iOWrkdLaBdF</td>\n",
       "      <td>12-31-2021</td>\n",
       "      <td>22</td>\n",
       "      <td>Fri</td>\n",
       "      <td>20</td>\n",
       "      <td>1</td>\n",
       "      <td>Female</td>\n",
       "      <td>...</td>\n",
       "      <td>27</td>\n",
       "      <td>33</td>\n",
       "      <td>תל אביב-יפו</td>\n",
       "      <td>34.774493</td>\n",
       "      <td>32.062645</td>\n",
       "      <td>0</td>\n",
       "      <td>0</td>\n",
       "      <td>2</td>\n",
       "      <td>0</td>\n",
       "      <td>2</td>\n",
       "    </tr>\n",
       "    <tr>\n",
       "      <th>1</th>\n",
       "      <td>2tYv2pf0Ks1xKi0b2Wm1</td>\n",
       "      <td>221790070</td>\n",
       "      <td>ej1DBVA98tHV6xZIyJMP</td>\n",
       "      <td>Nfgn9c4Q8iOWrkdLaBdF</td>\n",
       "      <td>12-31-2021</td>\n",
       "      <td>22</td>\n",
       "      <td>Fri</td>\n",
       "      <td>40</td>\n",
       "      <td>2</td>\n",
       "      <td>Female</td>\n",
       "      <td>...</td>\n",
       "      <td>21</td>\n",
       "      <td>189</td>\n",
       "      <td>תל אביב-יפו</td>\n",
       "      <td>34.774493</td>\n",
       "      <td>32.062645</td>\n",
       "      <td>2</td>\n",
       "      <td>0</td>\n",
       "      <td>2</td>\n",
       "      <td>0</td>\n",
       "      <td>0</td>\n",
       "    </tr>\n",
       "    <tr>\n",
       "      <th>2</th>\n",
       "      <td>sy1ixUggxZDcwRdMOWeq</td>\n",
       "      <td>282367579</td>\n",
       "      <td>edfi5D5TbquWiC4jjFqW</td>\n",
       "      <td>W84OVIV0q7ERGP8xa8o6</td>\n",
       "      <td>12-31-2021</td>\n",
       "      <td>22</td>\n",
       "      <td>Fri</td>\n",
       "      <td>20</td>\n",
       "      <td>1</td>\n",
       "      <td>Female</td>\n",
       "      <td>...</td>\n",
       "      <td>27</td>\n",
       "      <td>82</td>\n",
       "      <td>תל אביב-יפו</td>\n",
       "      <td>34.772880</td>\n",
       "      <td>32.063114</td>\n",
       "      <td>2</td>\n",
       "      <td>0</td>\n",
       "      <td>2</td>\n",
       "      <td>0</td>\n",
       "      <td>0</td>\n",
       "    </tr>\n",
       "    <tr>\n",
       "      <th>3</th>\n",
       "      <td>53t5YGCJXAsFckSljBeE</td>\n",
       "      <td>282367579</td>\n",
       "      <td>tUB85hi8UtnHBmIQJBoo</td>\n",
       "      <td>RaogcDulcpkeJ1FY5UHP</td>\n",
       "      <td>12-31-2021</td>\n",
       "      <td>22</td>\n",
       "      <td>Fri</td>\n",
       "      <td>20</td>\n",
       "      <td>1</td>\n",
       "      <td>Female</td>\n",
       "      <td>...</td>\n",
       "      <td>27</td>\n",
       "      <td>82</td>\n",
       "      <td>תל אביב-יפו</td>\n",
       "      <td>34.773504</td>\n",
       "      <td>32.063855</td>\n",
       "      <td>2</td>\n",
       "      <td>0</td>\n",
       "      <td>0</td>\n",
       "      <td>0</td>\n",
       "      <td>0</td>\n",
       "    </tr>\n",
       "    <tr>\n",
       "      <th>4</th>\n",
       "      <td>gfwGBUMNqf9oS7aEHY8Q</td>\n",
       "      <td>462261225</td>\n",
       "      <td>edfi5D5TbquWiC4jjFqW</td>\n",
       "      <td>W84OVIV0q7ERGP8xa8o6</td>\n",
       "      <td>12-31-2021</td>\n",
       "      <td>22</td>\n",
       "      <td>Fri</td>\n",
       "      <td>20</td>\n",
       "      <td>1</td>\n",
       "      <td>Female</td>\n",
       "      <td>...</td>\n",
       "      <td>24</td>\n",
       "      <td>4</td>\n",
       "      <td>תל אביב-יפו</td>\n",
       "      <td>34.772880</td>\n",
       "      <td>32.063114</td>\n",
       "      <td>0</td>\n",
       "      <td>0</td>\n",
       "      <td>2</td>\n",
       "      <td>0</td>\n",
       "      <td>0</td>\n",
       "    </tr>\n",
       "  </tbody>\n",
       "</table>\n",
       "<p>5 rows × 22 columns</p>\n",
       "</div>"
      ],
      "text/plain": [
       "                VisitId  InfluencerId            BusinessId  \\\n",
       "0  JZusiD47LQXpClSOZ2Cg    1975810889  ej1DBVA98tHV6xZIyJMP   \n",
       "1  2tYv2pf0Ks1xKi0b2Wm1     221790070  ej1DBVA98tHV6xZIyJMP   \n",
       "2  sy1ixUggxZDcwRdMOWeq     282367579  edfi5D5TbquWiC4jjFqW   \n",
       "3  53t5YGCJXAsFckSljBeE     282367579  tUB85hi8UtnHBmIQJBoo   \n",
       "4  gfwGBUMNqf9oS7aEHY8Q     462261225  edfi5D5TbquWiC4jjFqW   \n",
       "\n",
       "                BrandId        Date  Hour Weekday  Level  Status  Gender  ...  \\\n",
       "0  Nfgn9c4Q8iOWrkdLaBdF  12-31-2021    22     Fri     20       1  Female  ...   \n",
       "1  Nfgn9c4Q8iOWrkdLaBdF  12-31-2021    22     Fri     40       2  Female  ...   \n",
       "2  W84OVIV0q7ERGP8xa8o6  12-31-2021    22     Fri     20       1  Female  ...   \n",
       "3  RaogcDulcpkeJ1FY5UHP  12-31-2021    22     Fri     20       1  Female  ...   \n",
       "4  W84OVIV0q7ERGP8xa8o6  12-31-2021    22     Fri     20       1  Female  ...   \n",
       "\n",
       "   Age  LoginsBeforeDeal         City       Long        Lat  Fashion  Beauty  \\\n",
       "0   27                33  תל אביב-יפו  34.774493  32.062645        0       0   \n",
       "1   21               189  תל אביב-יפו  34.774493  32.062645        2       0   \n",
       "2   27                82  תל אביב-יפו  34.772880  32.063114        2       0   \n",
       "3   27                82  תל אביב-יפו  34.773504  32.063855        2       0   \n",
       "4   24                 4  תל אביב-יפו  34.772880  32.063114        0       0   \n",
       "\n",
       "   Foody  Sport  Model  \n",
       "0      2      0      2  \n",
       "1      2      0      0  \n",
       "2      2      0      0  \n",
       "3      0      0      0  \n",
       "4      2      0      0  \n",
       "\n",
       "[5 rows x 22 columns]"
      ]
     },
     "execution_count": 7,
     "metadata": {},
     "output_type": "execute_result"
    }
   ],
   "source": [
    "data_in.head()"
   ]
  },
  {
   "cell_type": "code",
   "execution_count": 8,
   "id": "28fc4e3b-e59b-4c5c-84f2-bc024c6e080f",
   "metadata": {},
   "outputs": [
    {
     "data": {
      "text/plain": [
       "VisitId              object\n",
       "InfluencerId          int64\n",
       "BusinessId           object\n",
       "BrandId              object\n",
       "Date                 object\n",
       "Hour                  int64\n",
       "Weekday              object\n",
       "Level                 int64\n",
       "Status                int64\n",
       "Gender               object\n",
       "Followers             int64\n",
       "Engagement            int64\n",
       "Age                   int64\n",
       "LoginsBeforeDeal      int64\n",
       "City                 object\n",
       "Long                float64\n",
       "Lat                 float64\n",
       "Fashion               int64\n",
       "Beauty                int64\n",
       "Foody                 int64\n",
       "Sport                 int64\n",
       "Model                 int64\n",
       "dtype: object"
      ]
     },
     "execution_count": 8,
     "metadata": {},
     "output_type": "execute_result"
    }
   ],
   "source": [
    "data_in.dtypes"
   ]
  },
  {
   "cell_type": "markdown",
   "id": "2d05d6b1-decf-4dfe-a7c9-74cef8d3dcf0",
   "metadata": {},
   "source": [
    "#### 1.2 Missing values"
   ]
  },
  {
   "cell_type": "code",
   "execution_count": 9,
   "id": "1854ead0-5616-4496-993e-2b3cf97746d9",
   "metadata": {},
   "outputs": [
    {
     "data": {
      "text/plain": [
       "City                1215\n",
       "VisitId                0\n",
       "InfluencerId           0\n",
       "Sport                  0\n",
       "Foody                  0\n",
       "Beauty                 0\n",
       "Fashion                0\n",
       "Lat                    0\n",
       "Long                   0\n",
       "LoginsBeforeDeal       0\n",
       "Age                    0\n",
       "Engagement             0\n",
       "Followers              0\n",
       "Gender                 0\n",
       "Status                 0\n",
       "Level                  0\n",
       "Weekday                0\n",
       "Hour                   0\n",
       "Date                   0\n",
       "BrandId                0\n",
       "BusinessId             0\n",
       "Model                  0\n",
       "dtype: int64"
      ]
     },
     "execution_count": 9,
     "metadata": {},
     "output_type": "execute_result"
    }
   ],
   "source": [
    "data_in.isnull().sum().sort_values(ascending=False)"
   ]
  },
  {
   "cell_type": "markdown",
   "id": "0ed1923e-c0af-4ecd-8f6f-7da6c4a053bb",
   "metadata": {},
   "source": [
    "לאחר בירור החברה - מסתבר שהערכים החסרים הם משלוחים - לכן נמלא כך"
   ]
  },
  {
   "cell_type": "code",
   "execution_count": 10,
   "id": "65632090-ca35-4363-8354-85eab9192075",
   "metadata": {},
   "outputs": [],
   "source": [
    "data_in['City'] =data_in['City'].fillna('Delivery')"
   ]
  },
  {
   "cell_type": "markdown",
   "id": "3af73f76-87fb-44c2-b836-391dfe2024ce",
   "metadata": {},
   "source": [
    "#### 1.3 Noisy data - outliers"
   ]
  },
  {
   "cell_type": "markdown",
   "id": "83ab1ecb-e72d-4ce5-8adb-e52454e91411",
   "metadata": {},
   "source": [
    "בדיקת עמודות נומריות"
   ]
  },
  {
   "cell_type": "code",
   "execution_count": 11,
   "id": "b0a411ca-cc0c-4af1-a235-1f519a399c51",
   "metadata": {},
   "outputs": [],
   "source": [
    "features = [\"VisitId\",\"Hour\", \"Level\",\"Status\", \"Followers\",\"Engagement\", \"Age\", \"LoginsBeforeDeal\",\"Fashion\",\"Beauty\",\"Foody\",\"Sport\",\"Model\"]"
   ]
  },
  {
   "cell_type": "code",
   "execution_count": 12,
   "id": "86d1e478-de64-4158-aff2-b018727feb2b",
   "metadata": {},
   "outputs": [],
   "source": [
    "# melted_in_df = pd.melt(data_in[features], id_vars = 'VisitId', value_vars = features)\n",
    "# melted_in_df"
   ]
  },
  {
   "cell_type": "code",
   "execution_count": 13,
   "id": "b69941aa-de5a-423c-8681-916bef45a980",
   "metadata": {},
   "outputs": [],
   "source": [
    "# g = sns.FacetGrid(data = melted_in_df, col=\"variable\",  col_wrap=4, sharey=False)\n",
    "# g.map_dataframe(sns.boxplot, y = 'value')\n",
    "# plt.show()"
   ]
  },
  {
   "cell_type": "markdown",
   "id": "21da9f45-4332-4aa2-93b5-3804b27125d9",
   "metadata": {},
   "source": [
    "ערכים תקינים פרט לגיל 0, לרמה 0 ו255"
   ]
  },
  {
   "cell_type": "code",
   "execution_count": 14,
   "id": "dee07982-6fe9-476c-9dc4-3c0175c61b1e",
   "metadata": {},
   "outputs": [
    {
     "data": {
      "text/plain": [
       "7119       0\n",
       "7335       0\n",
       "21292      0\n",
       "2892       0\n",
       "7534       0\n",
       "        ... \n",
       "15246    255\n",
       "6417     255\n",
       "1867     255\n",
       "44604    255\n",
       "4530     255\n",
       "Name: Level, Length: 46152, dtype: int64"
      ]
     },
     "execution_count": 14,
     "metadata": {},
     "output_type": "execute_result"
    }
   ],
   "source": [
    "data_in.Level.sort_values(ascending = True)"
   ]
  },
  {
   "cell_type": "code",
   "execution_count": 15,
   "id": "4b5452d1-0593-4c38-8bdb-63b4e772d17b",
   "metadata": {},
   "outputs": [
    {
     "data": {
      "text/plain": [
       "4530          249\n",
       "2960          465\n",
       "23355         696\n",
       "23426         696\n",
       "23427         696\n",
       "           ...   \n",
       "18900    23611114\n",
       "18880    23611114\n",
       "18879    23611114\n",
       "30337    23611114\n",
       "30622    23611114\n",
       "Name: Followers, Length: 46152, dtype: int64"
      ]
     },
     "execution_count": 15,
     "metadata": {},
     "output_type": "execute_result"
    }
   ],
   "source": [
    "data_in.Followers.sort_values(ascending = True)"
   ]
  },
  {
   "cell_type": "code",
   "execution_count": 16,
   "id": "79dad3ef-4c5f-4ec0-bc90-9beefebcb3c4",
   "metadata": {},
   "outputs": [
    {
     "data": {
      "text/html": [
       "<div>\n",
       "<style scoped>\n",
       "    .dataframe tbody tr th:only-of-type {\n",
       "        vertical-align: middle;\n",
       "    }\n",
       "\n",
       "    .dataframe tbody tr th {\n",
       "        vertical-align: top;\n",
       "    }\n",
       "\n",
       "    .dataframe thead th {\n",
       "        text-align: right;\n",
       "    }\n",
       "</style>\n",
       "<table border=\"1\" class=\"dataframe\">\n",
       "  <thead>\n",
       "    <tr style=\"text-align: right;\">\n",
       "      <th></th>\n",
       "      <th>Level</th>\n",
       "    </tr>\n",
       "  </thead>\n",
       "  <tbody>\n",
       "    <tr>\n",
       "      <th>4510</th>\n",
       "      <td>10</td>\n",
       "    </tr>\n",
       "    <tr>\n",
       "      <th>7607</th>\n",
       "      <td>10</td>\n",
       "    </tr>\n",
       "    <tr>\n",
       "      <th>7611</th>\n",
       "      <td>50</td>\n",
       "    </tr>\n",
       "    <tr>\n",
       "      <th>10506</th>\n",
       "      <td>50</td>\n",
       "    </tr>\n",
       "    <tr>\n",
       "      <th>10528</th>\n",
       "      <td>10</td>\n",
       "    </tr>\n",
       "    <tr>\n",
       "      <th>...</th>\n",
       "      <td>...</td>\n",
       "    </tr>\n",
       "    <tr>\n",
       "      <th>32155</th>\n",
       "      <td>10</td>\n",
       "    </tr>\n",
       "    <tr>\n",
       "      <th>32159</th>\n",
       "      <td>10</td>\n",
       "    </tr>\n",
       "    <tr>\n",
       "      <th>32182</th>\n",
       "      <td>10</td>\n",
       "    </tr>\n",
       "    <tr>\n",
       "      <th>32206</th>\n",
       "      <td>10</td>\n",
       "    </tr>\n",
       "    <tr>\n",
       "      <th>32219</th>\n",
       "      <td>10</td>\n",
       "    </tr>\n",
       "  </tbody>\n",
       "</table>\n",
       "<p>229 rows × 1 columns</p>\n",
       "</div>"
      ],
      "text/plain": [
       "       Level\n",
       "4510      10\n",
       "7607      10\n",
       "7611      50\n",
       "10506     50\n",
       "10528     10\n",
       "...      ...\n",
       "32155     10\n",
       "32159     10\n",
       "32182     10\n",
       "32206     10\n",
       "32219     10\n",
       "\n",
       "[229 rows x 1 columns]"
      ]
     },
     "execution_count": 16,
     "metadata": {},
     "output_type": "execute_result"
    }
   ],
   "source": [
    "data_in.loc[data_in.Followers == data_in.Followers.max(),[\"Level\"]]"
   ]
  },
  {
   "cell_type": "code",
   "execution_count": 17,
   "id": "316d4cd5-f235-4f2a-b9f1-5ebb06b87348",
   "metadata": {},
   "outputs": [
    {
     "data": {
      "text/plain": [
       "8855      0\n",
       "39345     0\n",
       "44816     0\n",
       "20401     0\n",
       "20394     0\n",
       "         ..\n",
       "7046     59\n",
       "9948     59\n",
       "41046    59\n",
       "37934    59\n",
       "7605     59\n",
       "Name: Age, Length: 46152, dtype: int64"
      ]
     },
     "execution_count": 17,
     "metadata": {},
     "output_type": "execute_result"
    }
   ],
   "source": [
    "data_in.Age.sort_values(ascending = True)"
   ]
  },
  {
   "cell_type": "markdown",
   "id": "970c12f9-05b4-447e-a2bc-1527059dea3e",
   "metadata": {},
   "source": [
    "הסבר לערכים חריגים בעמודת העוקבים ועמודת הלייקים :\n",
    "נובע מכך שקיימים מפורסמים עם רמת השפעה גבוהה מאחרים"
   ]
  },
  {
   "cell_type": "markdown",
   "id": "a6e6b901-fd65-4f5c-b656-79ed954fb281",
   "metadata": {},
   "source": [
    "#### 1.4 Transformations"
   ]
  },
  {
   "cell_type": "markdown",
   "id": "285a2058-ede8-49eb-9497-6e049f647b60",
   "metadata": {},
   "source": [
    "לאחר בירור עם החברה - רמה 255 הם מפעילים של החברה ורמה 0 זה חריגה ,וגיל 0 אילו אנשים שלא מילאו ערכים ולכן הסרנו אותם"
   ]
  },
  {
   "cell_type": "code",
   "execution_count": 18,
   "id": "e3112894-0bdf-435f-8be6-a4f89d5bc7dd",
   "metadata": {},
   "outputs": [],
   "source": [
    "data_in=data_in[data_in.Age != 0] \n",
    "data_in = data_in[data_in.Level != 255].copy()\n",
    "data_in = data_in[data_in.Level != 0].copy()\n",
    "data_in = data_in[(data_in.Gender == 'Male')|(data_in.Gender == 'Female') ].copy()\n",
    "data_in.loc[data_in[\"Age\"]<55 , \"Age Group\"]=\"44-55\"\n",
    "data_in.loc[data_in[\"Age\"]<41 , \"Age Group\"]=\"35-40\"\n",
    "data_in.loc[data_in[\"Age\"]<35 , \"Age Group\"]=\"30-34\"\n",
    "data_in.loc[data_in[\"Age\"]<30 , \"Age Group\"]=\"25-29\"\n",
    "data_in.loc[data_in[\"Age\"]<25 , \"Age Group\"]=\"18-25\"\n",
    "data_in.loc[data_in[\"Age\"]<18 , \"Age Group\"]=\"14-17\"\n"
   ]
  },
  {
   "cell_type": "code",
   "execution_count": 19,
   "id": "7a0b3537-5a1e-4e9a-965e-71239c86d6e5",
   "metadata": {},
   "outputs": [
    {
     "data": {
      "text/plain": [
       "16819    10\n",
       "13792    10\n",
       "2277     10\n",
       "31678    10\n",
       "31681    10\n",
       "         ..\n",
       "32958    50\n",
       "10257    50\n",
       "10262    50\n",
       "32965    50\n",
       "14517    50\n",
       "Name: Level, Length: 44208, dtype: int64"
      ]
     },
     "execution_count": 19,
     "metadata": {},
     "output_type": "execute_result"
    }
   ],
   "source": [
    "data_in.Level.sort_values(ascending = True)"
   ]
  },
  {
   "cell_type": "code",
   "execution_count": 20,
   "id": "835f4bc9-1899-4867-bea8-325047bd1560",
   "metadata": {},
   "outputs": [],
   "source": [
    "data_in=data_in.drop(['Lat', 'Long'], axis=1)"
   ]
  },
  {
   "cell_type": "markdown",
   "id": "4b78bc16-74d1-4076-b6e4-3877fa51fea0",
   "metadata": {},
   "source": [
    "הורדת עמודות של קווי אורך ורוחב בגלל שאין לנו שימוש בהם"
   ]
  },
  {
   "cell_type": "code",
   "execution_count": 21,
   "id": "39904d0d-116e-47b1-852e-7f92dd68e98b",
   "metadata": {},
   "outputs": [],
   "source": [
    "import datetime\n",
    "data_in['day']=pd.DatetimeIndex(data_in['Date']).day\n",
    "data_in['month']=pd.DatetimeIndex(data_in['Date']).month\n",
    "data_in['year']=pd.DatetimeIndex(data_in['Date']).year"
   ]
  },
  {
   "cell_type": "markdown",
   "id": "3324a3c5-b6b3-4807-b3d6-a7db4243ae66",
   "metadata": {},
   "source": [
    "הוספת עמודות של יום חודש ושנה על מנת למצוא תובנות שקשורות בפרמטרים אלו"
   ]
  },
  {
   "cell_type": "markdown",
   "id": "43782d72-cbe7-4569-bbe1-d3603d7ef5b5",
   "metadata": {
    "jp-MarkdownHeadingCollapsed": true,
    "tags": []
   },
   "source": [
    "### 2. Understand the data"
   ]
  },
  {
   "cell_type": "markdown",
   "id": "68f88846-68db-4514-88ce-f80c551bd847",
   "metadata": {},
   "source": [
    "הוספת עמודות נומריות"
   ]
  },
  {
   "cell_type": "code",
   "execution_count": 22,
   "id": "7a18a4f5-2bff-4e22-be34-29ff9b6303a5",
   "metadata": {},
   "outputs": [
    {
     "data": {
      "text/html": [
       "<div>\n",
       "<style scoped>\n",
       "    .dataframe tbody tr th:only-of-type {\n",
       "        vertical-align: middle;\n",
       "    }\n",
       "\n",
       "    .dataframe tbody tr th {\n",
       "        vertical-align: top;\n",
       "    }\n",
       "\n",
       "    .dataframe thead th {\n",
       "        text-align: right;\n",
       "    }\n",
       "</style>\n",
       "<table border=\"1\" class=\"dataframe\">\n",
       "  <thead>\n",
       "    <tr style=\"text-align: right;\">\n",
       "      <th></th>\n",
       "      <th>VisitId</th>\n",
       "      <th>InfluencerId</th>\n",
       "      <th>BusinessId</th>\n",
       "      <th>BrandId</th>\n",
       "      <th>Date</th>\n",
       "      <th>Hour</th>\n",
       "      <th>Weekday</th>\n",
       "      <th>Level</th>\n",
       "      <th>Status</th>\n",
       "      <th>Gender</th>\n",
       "      <th>...</th>\n",
       "      <th>Foody</th>\n",
       "      <th>Sport</th>\n",
       "      <th>Model</th>\n",
       "      <th>Age Group</th>\n",
       "      <th>day</th>\n",
       "      <th>month</th>\n",
       "      <th>year</th>\n",
       "      <th>Deal</th>\n",
       "      <th>Recieved</th>\n",
       "      <th>Read</th>\n",
       "    </tr>\n",
       "  </thead>\n",
       "  <tbody>\n",
       "    <tr>\n",
       "      <th>0</th>\n",
       "      <td>JZusiD47LQXpClSOZ2Cg</td>\n",
       "      <td>1975810889</td>\n",
       "      <td>ej1DBVA98tHV6xZIyJMP</td>\n",
       "      <td>Nfgn9c4Q8iOWrkdLaBdF</td>\n",
       "      <td>12-31-2021</td>\n",
       "      <td>22</td>\n",
       "      <td>Fri</td>\n",
       "      <td>20</td>\n",
       "      <td>1</td>\n",
       "      <td>Female</td>\n",
       "      <td>...</td>\n",
       "      <td>2</td>\n",
       "      <td>0</td>\n",
       "      <td>2</td>\n",
       "      <td>25-29</td>\n",
       "      <td>31</td>\n",
       "      <td>12</td>\n",
       "      <td>2021</td>\n",
       "      <td>0.0</td>\n",
       "      <td>1.0</td>\n",
       "      <td>0.0</td>\n",
       "    </tr>\n",
       "    <tr>\n",
       "      <th>1</th>\n",
       "      <td>2tYv2pf0Ks1xKi0b2Wm1</td>\n",
       "      <td>221790070</td>\n",
       "      <td>ej1DBVA98tHV6xZIyJMP</td>\n",
       "      <td>Nfgn9c4Q8iOWrkdLaBdF</td>\n",
       "      <td>12-31-2021</td>\n",
       "      <td>22</td>\n",
       "      <td>Fri</td>\n",
       "      <td>40</td>\n",
       "      <td>2</td>\n",
       "      <td>Female</td>\n",
       "      <td>...</td>\n",
       "      <td>2</td>\n",
       "      <td>0</td>\n",
       "      <td>0</td>\n",
       "      <td>18-25</td>\n",
       "      <td>31</td>\n",
       "      <td>12</td>\n",
       "      <td>2021</td>\n",
       "      <td>0.0</td>\n",
       "      <td>0.0</td>\n",
       "      <td>1.0</td>\n",
       "    </tr>\n",
       "    <tr>\n",
       "      <th>2</th>\n",
       "      <td>sy1ixUggxZDcwRdMOWeq</td>\n",
       "      <td>282367579</td>\n",
       "      <td>edfi5D5TbquWiC4jjFqW</td>\n",
       "      <td>W84OVIV0q7ERGP8xa8o6</td>\n",
       "      <td>12-31-2021</td>\n",
       "      <td>22</td>\n",
       "      <td>Fri</td>\n",
       "      <td>20</td>\n",
       "      <td>1</td>\n",
       "      <td>Female</td>\n",
       "      <td>...</td>\n",
       "      <td>2</td>\n",
       "      <td>0</td>\n",
       "      <td>0</td>\n",
       "      <td>25-29</td>\n",
       "      <td>31</td>\n",
       "      <td>12</td>\n",
       "      <td>2021</td>\n",
       "      <td>0.0</td>\n",
       "      <td>1.0</td>\n",
       "      <td>0.0</td>\n",
       "    </tr>\n",
       "    <tr>\n",
       "      <th>3</th>\n",
       "      <td>53t5YGCJXAsFckSljBeE</td>\n",
       "      <td>282367579</td>\n",
       "      <td>tUB85hi8UtnHBmIQJBoo</td>\n",
       "      <td>RaogcDulcpkeJ1FY5UHP</td>\n",
       "      <td>12-31-2021</td>\n",
       "      <td>22</td>\n",
       "      <td>Fri</td>\n",
       "      <td>20</td>\n",
       "      <td>1</td>\n",
       "      <td>Female</td>\n",
       "      <td>...</td>\n",
       "      <td>0</td>\n",
       "      <td>0</td>\n",
       "      <td>0</td>\n",
       "      <td>25-29</td>\n",
       "      <td>31</td>\n",
       "      <td>12</td>\n",
       "      <td>2021</td>\n",
       "      <td>0.0</td>\n",
       "      <td>1.0</td>\n",
       "      <td>0.0</td>\n",
       "    </tr>\n",
       "    <tr>\n",
       "      <th>4</th>\n",
       "      <td>gfwGBUMNqf9oS7aEHY8Q</td>\n",
       "      <td>462261225</td>\n",
       "      <td>edfi5D5TbquWiC4jjFqW</td>\n",
       "      <td>W84OVIV0q7ERGP8xa8o6</td>\n",
       "      <td>12-31-2021</td>\n",
       "      <td>22</td>\n",
       "      <td>Fri</td>\n",
       "      <td>20</td>\n",
       "      <td>1</td>\n",
       "      <td>Female</td>\n",
       "      <td>...</td>\n",
       "      <td>2</td>\n",
       "      <td>0</td>\n",
       "      <td>0</td>\n",
       "      <td>18-25</td>\n",
       "      <td>31</td>\n",
       "      <td>12</td>\n",
       "      <td>2021</td>\n",
       "      <td>0.0</td>\n",
       "      <td>1.0</td>\n",
       "      <td>0.0</td>\n",
       "    </tr>\n",
       "    <tr>\n",
       "      <th>...</th>\n",
       "      <td>...</td>\n",
       "      <td>...</td>\n",
       "      <td>...</td>\n",
       "      <td>...</td>\n",
       "      <td>...</td>\n",
       "      <td>...</td>\n",
       "      <td>...</td>\n",
       "      <td>...</td>\n",
       "      <td>...</td>\n",
       "      <td>...</td>\n",
       "      <td>...</td>\n",
       "      <td>...</td>\n",
       "      <td>...</td>\n",
       "      <td>...</td>\n",
       "      <td>...</td>\n",
       "      <td>...</td>\n",
       "      <td>...</td>\n",
       "      <td>...</td>\n",
       "      <td>...</td>\n",
       "      <td>...</td>\n",
       "      <td>...</td>\n",
       "    </tr>\n",
       "    <tr>\n",
       "      <th>46147</th>\n",
       "      <td>RllmNy60I7dZSXAVNHQH</td>\n",
       "      <td>250226968</td>\n",
       "      <td>ej1DBVA98tHV6xZIyJMP</td>\n",
       "      <td>Nfgn9c4Q8iOWrkdLaBdF</td>\n",
       "      <td>04-27-2022</td>\n",
       "      <td>16</td>\n",
       "      <td>Wed</td>\n",
       "      <td>40</td>\n",
       "      <td>1</td>\n",
       "      <td>Female</td>\n",
       "      <td>...</td>\n",
       "      <td>2</td>\n",
       "      <td>0</td>\n",
       "      <td>0</td>\n",
       "      <td>25-29</td>\n",
       "      <td>27</td>\n",
       "      <td>4</td>\n",
       "      <td>2022</td>\n",
       "      <td>0.0</td>\n",
       "      <td>1.0</td>\n",
       "      <td>0.0</td>\n",
       "    </tr>\n",
       "    <tr>\n",
       "      <th>46148</th>\n",
       "      <td>pRaiFSiZpLca7AdI7VT8</td>\n",
       "      <td>539756490</td>\n",
       "      <td>4WPYqItwgvLj0YjCGV1W</td>\n",
       "      <td>Tjscw9OUx85mEgl9ACsz</td>\n",
       "      <td>04-27-2022</td>\n",
       "      <td>16</td>\n",
       "      <td>Wed</td>\n",
       "      <td>40</td>\n",
       "      <td>1</td>\n",
       "      <td>Female</td>\n",
       "      <td>...</td>\n",
       "      <td>0</td>\n",
       "      <td>0</td>\n",
       "      <td>0</td>\n",
       "      <td>18-25</td>\n",
       "      <td>27</td>\n",
       "      <td>4</td>\n",
       "      <td>2022</td>\n",
       "      <td>0.0</td>\n",
       "      <td>1.0</td>\n",
       "      <td>0.0</td>\n",
       "    </tr>\n",
       "    <tr>\n",
       "      <th>46149</th>\n",
       "      <td>j8QBz9BzVZ3frsXaTejJ</td>\n",
       "      <td>568770391</td>\n",
       "      <td>tekEGDMqF93UP9R0MD9t</td>\n",
       "      <td>0efGKdQVFlISFuwCkiJ4</td>\n",
       "      <td>04-27-2022</td>\n",
       "      <td>16</td>\n",
       "      <td>Wed</td>\n",
       "      <td>30</td>\n",
       "      <td>1</td>\n",
       "      <td>Male</td>\n",
       "      <td>...</td>\n",
       "      <td>3</td>\n",
       "      <td>0</td>\n",
       "      <td>0</td>\n",
       "      <td>18-25</td>\n",
       "      <td>27</td>\n",
       "      <td>4</td>\n",
       "      <td>2022</td>\n",
       "      <td>0.0</td>\n",
       "      <td>1.0</td>\n",
       "      <td>0.0</td>\n",
       "    </tr>\n",
       "    <tr>\n",
       "      <th>46150</th>\n",
       "      <td>4cd7b62b-a517-4328-a67b-29280878d2ee</td>\n",
       "      <td>8750283576</td>\n",
       "      <td>XNyXdZlz6qWVWB3qtXH3</td>\n",
       "      <td>kUdMkyD9lD9UDCj0BLuM</td>\n",
       "      <td>04-27-2022</td>\n",
       "      <td>16</td>\n",
       "      <td>Wed</td>\n",
       "      <td>20</td>\n",
       "      <td>0</td>\n",
       "      <td>Female</td>\n",
       "      <td>...</td>\n",
       "      <td>2</td>\n",
       "      <td>0</td>\n",
       "      <td>2</td>\n",
       "      <td>25-29</td>\n",
       "      <td>27</td>\n",
       "      <td>4</td>\n",
       "      <td>2022</td>\n",
       "      <td>1.0</td>\n",
       "      <td>0.0</td>\n",
       "      <td>0.0</td>\n",
       "    </tr>\n",
       "    <tr>\n",
       "      <th>46151</th>\n",
       "      <td>g1EVHEc11cqygojfjQmy</td>\n",
       "      <td>19385636</td>\n",
       "      <td>r487gIGfuvYJjJoZjlgF</td>\n",
       "      <td>6FJLhnYDKIhgFDBazbD2</td>\n",
       "      <td>04-27-2022</td>\n",
       "      <td>16</td>\n",
       "      <td>Wed</td>\n",
       "      <td>40</td>\n",
       "      <td>1</td>\n",
       "      <td>Female</td>\n",
       "      <td>...</td>\n",
       "      <td>0</td>\n",
       "      <td>0</td>\n",
       "      <td>0</td>\n",
       "      <td>25-29</td>\n",
       "      <td>27</td>\n",
       "      <td>4</td>\n",
       "      <td>2022</td>\n",
       "      <td>0.0</td>\n",
       "      <td>1.0</td>\n",
       "      <td>0.0</td>\n",
       "    </tr>\n",
       "  </tbody>\n",
       "</table>\n",
       "<p>44208 rows × 27 columns</p>\n",
       "</div>"
      ],
      "text/plain": [
       "                                    VisitId  InfluencerId  \\\n",
       "0                      JZusiD47LQXpClSOZ2Cg    1975810889   \n",
       "1                      2tYv2pf0Ks1xKi0b2Wm1     221790070   \n",
       "2                      sy1ixUggxZDcwRdMOWeq     282367579   \n",
       "3                      53t5YGCJXAsFckSljBeE     282367579   \n",
       "4                      gfwGBUMNqf9oS7aEHY8Q     462261225   \n",
       "...                                     ...           ...   \n",
       "46147                  RllmNy60I7dZSXAVNHQH     250226968   \n",
       "46148                  pRaiFSiZpLca7AdI7VT8     539756490   \n",
       "46149                  j8QBz9BzVZ3frsXaTejJ     568770391   \n",
       "46150  4cd7b62b-a517-4328-a67b-29280878d2ee    8750283576   \n",
       "46151                  g1EVHEc11cqygojfjQmy      19385636   \n",
       "\n",
       "                 BusinessId               BrandId        Date  Hour Weekday  \\\n",
       "0      ej1DBVA98tHV6xZIyJMP  Nfgn9c4Q8iOWrkdLaBdF  12-31-2021    22     Fri   \n",
       "1      ej1DBVA98tHV6xZIyJMP  Nfgn9c4Q8iOWrkdLaBdF  12-31-2021    22     Fri   \n",
       "2      edfi5D5TbquWiC4jjFqW  W84OVIV0q7ERGP8xa8o6  12-31-2021    22     Fri   \n",
       "3      tUB85hi8UtnHBmIQJBoo  RaogcDulcpkeJ1FY5UHP  12-31-2021    22     Fri   \n",
       "4      edfi5D5TbquWiC4jjFqW  W84OVIV0q7ERGP8xa8o6  12-31-2021    22     Fri   \n",
       "...                     ...                   ...         ...   ...     ...   \n",
       "46147  ej1DBVA98tHV6xZIyJMP  Nfgn9c4Q8iOWrkdLaBdF  04-27-2022    16     Wed   \n",
       "46148  4WPYqItwgvLj0YjCGV1W  Tjscw9OUx85mEgl9ACsz  04-27-2022    16     Wed   \n",
       "46149  tekEGDMqF93UP9R0MD9t  0efGKdQVFlISFuwCkiJ4  04-27-2022    16     Wed   \n",
       "46150  XNyXdZlz6qWVWB3qtXH3  kUdMkyD9lD9UDCj0BLuM  04-27-2022    16     Wed   \n",
       "46151  r487gIGfuvYJjJoZjlgF  6FJLhnYDKIhgFDBazbD2  04-27-2022    16     Wed   \n",
       "\n",
       "       Level  Status  Gender  ...  Foody  Sport  Model  Age Group day  month  \\\n",
       "0         20       1  Female  ...      2      0      2      25-29  31     12   \n",
       "1         40       2  Female  ...      2      0      0      18-25  31     12   \n",
       "2         20       1  Female  ...      2      0      0      25-29  31     12   \n",
       "3         20       1  Female  ...      0      0      0      25-29  31     12   \n",
       "4         20       1  Female  ...      2      0      0      18-25  31     12   \n",
       "...      ...     ...     ...  ...    ...    ...    ...        ...  ..    ...   \n",
       "46147     40       1  Female  ...      2      0      0      25-29  27      4   \n",
       "46148     40       1  Female  ...      0      0      0      18-25  27      4   \n",
       "46149     30       1    Male  ...      3      0      0      18-25  27      4   \n",
       "46150     20       0  Female  ...      2      0      2      25-29  27      4   \n",
       "46151     40       1  Female  ...      0      0      0      25-29  27      4   \n",
       "\n",
       "       year  Deal  Recieved  Read  \n",
       "0      2021   0.0       1.0   0.0  \n",
       "1      2021   0.0       0.0   1.0  \n",
       "2      2021   0.0       1.0   0.0  \n",
       "3      2021   0.0       1.0   0.0  \n",
       "4      2021   0.0       1.0   0.0  \n",
       "...     ...   ...       ...   ...  \n",
       "46147  2022   0.0       1.0   0.0  \n",
       "46148  2022   0.0       1.0   0.0  \n",
       "46149  2022   0.0       1.0   0.0  \n",
       "46150  2022   1.0       0.0   0.0  \n",
       "46151  2022   0.0       1.0   0.0  \n",
       "\n",
       "[44208 rows x 27 columns]"
      ]
     },
     "execution_count": 22,
     "metadata": {},
     "output_type": "execute_result"
    }
   ],
   "source": [
    "data_in.loc[data_in.Status == 0,'Deal']=1\n",
    "data_in.loc[data_in.Status == 1,'Recieved']=1\n",
    "data_in.loc[data_in.Status == 2,'Read']=1\n",
    "data_in['Deal'] = data_in['Deal'].fillna(0)\n",
    "data_in['Recieved'] = data_in['Recieved'].fillna(0)\n",
    "data_in['Read'] =data_in['Read'].fillna(0)\n",
    "data_in"
   ]
  },
  {
   "cell_type": "markdown",
   "id": "4cbf9679-c546-42f3-bd61-cd4e5d93f9a4",
   "metadata": {
    "jp-MarkdownHeadingCollapsed": true,
    "tags": []
   },
   "source": [
    "### 3. Correlations - patterns in the data"
   ]
  },
  {
   "cell_type": "code",
   "execution_count": 23,
   "id": "fb7493a5-6191-4777-8f44-4cb3af4b7805",
   "metadata": {},
   "outputs": [],
   "source": [
    "features2 = [\"VisitId\",\"Hour\", \"Weekday\", \"Level\",\"Status\", \"Followers\",\"Engagement\", \"LoginsBeforeDeal\",\"Fashion\",\"Beauty\",\"Foody\",\"Sport\",\"Model\",\"Read\",\"Deal\",\"Recieved\"]"
   ]
  },
  {
   "cell_type": "code",
   "execution_count": 24,
   "id": "f166302b-605a-4acd-b1fa-e39755bff28a",
   "metadata": {},
   "outputs": [],
   "source": [
    "melted_in_df2 = pd.melt(data_in[features2], id_vars = 'VisitId', value_vars = features2)\n"
   ]
  },
  {
   "cell_type": "code",
   "execution_count": 25,
   "id": "17486aa9-b4c2-4b13-a36d-5d7331ee4b67",
   "metadata": {},
   "outputs": [
    {
     "data": {
      "image/png": "[encoded data removed]",
      "text/plain": [
       "<Figure size 864x864 with 15 Axes>"
      ]
     },
     "metadata": {
      "needs_background": "light"
     },
     "output_type": "display_data"
    }
   ],
   "source": [
    "g = sns.FacetGrid(data = melted_in_df2, col=\"variable\",  col_wrap=4,sharex=False, sharey=False)\n",
    "g.map_dataframe(sns.histplot, x = \"value\")\n",
    "plt.show()"
   ]
  },
  {
   "cell_type": "code",
   "execution_count": 26,
   "id": "e3f8294c-b87d-4fa2-8a67-e7d249385411",
   "metadata": {},
   "outputs": [
    {
     "data": {
      "image/png": "[encoded data removed]",
      "text/plain": [
       "<Figure size 1080x720 with 2 Axes>"
      ]
     },
     "metadata": {
      "needs_background": "light"
     },
     "output_type": "display_data"
    }
   ],
   "source": [
    "features2 = [\"Hour\", \"Level\",\"Status\", \"Followers\",\"Engagement\", \"Age\", \"LoginsBeforeDeal\",\"Fashion\",\"Beauty\",\"Foody\",\"Sport\",\"Model\"]\n",
    "corrs = data_in[features2].corr(method = 'spearman')\n",
    "plt.figure(figsize=(15,10))  #figure size\n",
    "sns.heatmap(corrs, cmap='coolwarm', center=0, annot = True);"
   ]
  },
  {
   "cell_type": "markdown",
   "id": "e8afb2d6-be99-4547-afaf-12897da8aca9",
   "metadata": {},
   "source": [
    "כיוון שהדאטה שלנו קטגורי - אין קורלוציה בין עמודות פרט לקשר בין הרמה לכמות העוקבים (הרמה היא לפי כמות העוקבים - ולכן לא ניתן להוציא מסקנה ממשית)"
   ]
  },
  {
   "cell_type": "markdown",
   "id": "90734184-ae72-4b7e-99c0-d0fd2105a3bb",
   "metadata": {},
   "source": [
    "### 4. Observations"
   ]
  },
  {
   "cell_type": "markdown",
   "id": "8ed6dca8-01c1-420a-a85c-32ed33090b07",
   "metadata": {},
   "source": [
    "# ניתוח לפי זמן"
   ]
  },
  {
   "cell_type": "markdown",
   "id": "29ae3119-6f75-49c8-bdfb-ddc587b0bc1c",
   "metadata": {},
   "source": [
    "<img src=\"https://static8.depositphotos.com/1472772/997/i/950/depositphotos_9975863-stock-photo-hourglass-sandglass-sand-timer-sand.jpg\" width=\"300\"/>"
   ]
  },
  {
   "cell_type": "code",
   "execution_count": 27,
   "id": "7bf9abfb-ebec-4a77-abaf-2ae2fa1b0276",
   "metadata": {},
   "outputs": [
    {
     "data": {
      "text/plain": [
       "<AxesSubplot:xlabel='Hour', ylabel='count'>"
      ]
     },
     "execution_count": 27,
     "metadata": {},
     "output_type": "execute_result"
    },
    {
     "data": {
      "image/png": "[encoded data removed]",
      "text/plain": [
       "<Figure size 2160x360 with 3 Axes>"
      ]
     },
     "metadata": {
      "needs_background": "light"
     },
     "output_type": "display_data"
    }
   ],
   "source": [
    "fig, axes = plt.subplots(figsize=(30, 5), ncols=3)\n",
    "\n",
    "sns.countplot(data = data_in,x= 'month', ax = axes[0], palette = 'nipy_spectral_r',order = [12,1,2,3,4])\n",
    "sns.countplot(data = data_in,x= 'Weekday', ax = axes[1],order = [\"Sun\",\"Mon\",\"Tue\",\"Wed\",\"Thu\",\"Fri\",\"Sat\"])\n",
    "sns.countplot(data = data_in,x= 'Hour', ax = axes[2])"
   ]
  },
  {
   "cell_type": "code",
   "execution_count": 28,
   "id": "fb1f2a42-d2ce-42d4-8c70-6b4abe535379",
   "metadata": {},
   "outputs": [
    {
     "data": {
      "text/plain": [
       "<matplotlib.legend.Legend at 0x1c5856c60a0>"
      ]
     },
     "execution_count": 28,
     "metadata": {},
     "output_type": "execute_result"
    },
    {
     "data": {
      "image/png": "[encoded data removed]",
      "text/plain": [
       "<Figure size 1440x360 with 3 Axes>"
      ]
     },
     "metadata": {
      "needs_background": "light"
     },
     "output_type": "display_data"
    }
   ],
   "source": [
    "data_Deal = data_in.loc[data_in.Status == 0].copy()\n",
    "fig, axes = plt.subplots(figsize=(20, 5), ncols=3)\n",
    "lan1 = sns.countplot(data = data_Deal,x= 'month',palette = 'nipy_spectral_r' , ax = axes[0],order = [12,1,2,3,4])\n",
    "lan2 = sns.countplot(data = data_in,x= 'Weekday', ax = axes[1] , hue = 'Status',order = [\"Sun\",\"Mon\",\"Tue\",\"Wed\",\"Thu\",\"Fri\",\"Sat\"])\n",
    "lan3 = sns.countplot(data = data_Deal,x= 'Hour', ax = axes[2])\n",
    "lan1.legend(labels = ['Deal'])\n",
    "lan2.legend(labels = ['Deal','received','read'])\n",
    "lan3.legend(labels = ['Deal'])"
   ]
  },
  {
   "cell_type": "code",
   "execution_count": 29,
   "id": "ce2a6334-fd8d-4e87-b73c-305362355f54",
   "metadata": {},
   "outputs": [
    {
     "data": {
      "text/plain": [
       "<AxesSubplot:xlabel='Date'>"
      ]
     },
     "execution_count": 29,
     "metadata": {},
     "output_type": "execute_result"
    },
    {
     "data": {
      "image/png": "[encoded data removed]",
      "text/plain": [
       "<Figure size 1080x720 with 1 Axes>"
      ]
     },
     "metadata": {
      "needs_background": "light"
     },
     "output_type": "display_data"
    }
   ],
   "source": [
    "data_time = data_in.groupby('Date')['Date'].count()\n",
    "data_time = pd.DataFrame(data_time)\n",
    "data_time.plot.line( y = 'Date' , figsize=(15, 10))\n"
   ]
  },
  {
   "cell_type": "markdown",
   "id": "d117e79b-66f8-4f81-bb67-fe0e5ac19278",
   "metadata": {},
   "source": [
    "* ניתן לראות ירידה בחודש אפריל , ככל הנראה כתוצאה מגל הפיגועים שאנשים פחדו להסתובב ברחובות או פשוט חוסר נעימות לעלות סטורי בימים אילו\n",
    "* למרות שבשבת יש פחות אסמסים , כמות העסקאות גבוהה \n",
    "* ביום שישי מספר העסקאות הוא הנמוך ביותר \n",
    "* השעות הפעילות ביותר הם בשעות אחה\"ע - זמן ארוחת ערב\n",
    "* שעות הבוקר יש מעט פעילות"
   ]
  },
  {
   "cell_type": "markdown",
   "id": "fb71bf24-ef50-407f-8f3c-d9f2e46bb3d7",
   "metadata": {},
   "source": [
    "# ניתוח ריווחיות לפי רמה"
   ]
  },
  {
   "cell_type": "code",
   "execution_count": 30,
   "id": "0aedaa18-09d1-4e96-8a3d-7110a1f7913b",
   "metadata": {},
   "outputs": [],
   "source": [
    "data_id = data_in.groupby('InfluencerId')\n",
    "data_id= data_id.first()"
   ]
  },
  {
   "cell_type": "code",
   "execution_count": 31,
   "id": "d433e947-30bf-4af6-8c5b-15188bd9dd84",
   "metadata": {},
   "outputs": [
    {
     "data": {
      "text/plain": [
       "<matplotlib.legend.Legend at 0x1c585fd4c10>"
      ]
     },
     "execution_count": 31,
     "metadata": {},
     "output_type": "execute_result"
    },
    {
     "data": {
      "image/png": "[encoded data removed]",
      "text/plain": [
       "<Figure size 1080x360 with 2 Axes>"
      ]
     },
     "metadata": {
      "needs_background": "light"
     },
     "output_type": "display_data"
    }
   ],
   "source": [
    "fig, axes = plt.subplots(figsize=(15, 5), ncols=2)\n",
    "\n",
    "z= sns.countplot(data = data_Deal,x= 'Level' , ax = axes[0])\n",
    "x= sns.countplot(data = data_id,x= 'Level', ax = axes[1])\n",
    "x.set_ylabel(\"amount of influ\")\n",
    "z.set_ylabel(\"amount of transactions\")\n",
    "z.legend(labels = ['Deal' ])"
   ]
  },
  {
   "cell_type": "markdown",
   "id": "0cc25d62-2adf-4274-b282-119697e464fb",
   "metadata": {},
   "source": [
    "?דירוג מספר ההעסקאות ע\"פ רמה זהה לדירוג מספר המשפיענים ע\"פ רמה. האם זה גם דירוג הרווחיות\n"
   ]
  },
  {
   "cell_type": "code",
   "execution_count": 32,
   "id": "fd35ee0c-eb83-4948-85d7-ad69ff3d3810",
   "metadata": {},
   "outputs": [
    {
     "data": {
      "text/html": [
       "<div>\n",
       "<style scoped>\n",
       "    .dataframe tbody tr th:only-of-type {\n",
       "        vertical-align: middle;\n",
       "    }\n",
       "\n",
       "    .dataframe tbody tr th {\n",
       "        vertical-align: top;\n",
       "    }\n",
       "\n",
       "    .dataframe thead th {\n",
       "        text-align: right;\n",
       "    }\n",
       "</style>\n",
       "<table border=\"1\" class=\"dataframe\">\n",
       "  <thead>\n",
       "    <tr style=\"text-align: right;\">\n",
       "      <th></th>\n",
       "      <th>Engagement</th>\n",
       "      <th>Deal</th>\n",
       "      <th>sum_influ</th>\n",
       "      <th>engage_per_influ</th>\n",
       "      <th>deals_per_influ</th>\n",
       "      <th>price</th>\n",
       "      <th>profit_per_influ</th>\n",
       "      <th>precentage_pro_per_influ</th>\n",
       "      <th>total_profit_per_level</th>\n",
       "      <th>precentage_sum_pro</th>\n",
       "    </tr>\n",
       "    <tr>\n",
       "      <th>Level</th>\n",
       "      <th></th>\n",
       "      <th></th>\n",
       "      <th></th>\n",
       "      <th></th>\n",
       "      <th></th>\n",
       "      <th></th>\n",
       "      <th></th>\n",
       "      <th></th>\n",
       "      <th></th>\n",
       "      <th></th>\n",
       "    </tr>\n",
       "  </thead>\n",
       "  <tbody>\n",
       "    <tr>\n",
       "      <th>10</th>\n",
       "      <td>5356148</td>\n",
       "      <td>824.0</td>\n",
       "      <td>93</td>\n",
       "      <td>57592.989247</td>\n",
       "      <td>8.860215</td>\n",
       "      <td>160</td>\n",
       "      <td>1417.634409</td>\n",
       "      <td>48.655513</td>\n",
       "      <td>131840.0</td>\n",
       "      <td>19.329111</td>\n",
       "    </tr>\n",
       "    <tr>\n",
       "      <th>20</th>\n",
       "      <td>3177495</td>\n",
       "      <td>1348.0</td>\n",
       "      <td>245</td>\n",
       "      <td>12969.367347</td>\n",
       "      <td>5.502041</td>\n",
       "      <td>140</td>\n",
       "      <td>770.285714</td>\n",
       "      <td>26.437455</td>\n",
       "      <td>188720.0</td>\n",
       "      <td>27.668309</td>\n",
       "    </tr>\n",
       "    <tr>\n",
       "      <th>30</th>\n",
       "      <td>1922190</td>\n",
       "      <td>1535.0</td>\n",
       "      <td>369</td>\n",
       "      <td>5209.186992</td>\n",
       "      <td>4.159892</td>\n",
       "      <td>110</td>\n",
       "      <td>457.588076</td>\n",
       "      <td>15.705165</td>\n",
       "      <td>168850.0</td>\n",
       "      <td>24.755161</td>\n",
       "    </tr>\n",
       "    <tr>\n",
       "      <th>40</th>\n",
       "      <td>1550171</td>\n",
       "      <td>2483.0</td>\n",
       "      <td>846</td>\n",
       "      <td>1832.353428</td>\n",
       "      <td>2.934988</td>\n",
       "      <td>70</td>\n",
       "      <td>205.449173</td>\n",
       "      <td>7.051349</td>\n",
       "      <td>173810.0</td>\n",
       "      <td>25.482348</td>\n",
       "    </tr>\n",
       "    <tr>\n",
       "      <th>50</th>\n",
       "      <td>552407</td>\n",
       "      <td>943.0</td>\n",
       "      <td>301</td>\n",
       "      <td>1835.239203</td>\n",
       "      <td>3.132890</td>\n",
       "      <td>20</td>\n",
       "      <td>62.657807</td>\n",
       "      <td>2.150518</td>\n",
       "      <td>18860.0</td>\n",
       "      <td>2.765072</td>\n",
       "    </tr>\n",
       "  </tbody>\n",
       "</table>\n",
       "</div>"
      ],
      "text/plain": [
       "       Engagement    Deal  sum_influ  engage_per_influ  deals_per_influ  \\\n",
       "Level                                                                     \n",
       "10        5356148   824.0         93      57592.989247         8.860215   \n",
       "20        3177495  1348.0        245      12969.367347         5.502041   \n",
       "30        1922190  1535.0        369       5209.186992         4.159892   \n",
       "40        1550171  2483.0        846       1832.353428         2.934988   \n",
       "50         552407   943.0        301       1835.239203         3.132890   \n",
       "\n",
       "       price  profit_per_influ  precentage_pro_per_influ  \\\n",
       "Level                                                      \n",
       "10       160       1417.634409                 48.655513   \n",
       "20       140        770.285714                 26.437455   \n",
       "30       110        457.588076                 15.705165   \n",
       "40        70        205.449173                  7.051349   \n",
       "50        20         62.657807                  2.150518   \n",
       "\n",
       "       total_profit_per_level  precentage_sum_pro  \n",
       "Level                                              \n",
       "10                   131840.0           19.329111  \n",
       "20                   188720.0           27.668309  \n",
       "30                   168850.0           24.755161  \n",
       "40                   173810.0           25.482348  \n",
       "50                    18860.0            2.765072  "
      ]
     },
     "execution_count": 32,
     "metadata": {},
     "output_type": "execute_result"
    }
   ],
   "source": [
    "\n",
    "data_Level = data_Deal.groupby('Level')[['Engagement']].sum()\n",
    "data_Level['Deal'] = data_in.groupby('Level')[['Deal']].sum()\n",
    "data_Level['sum_influ'] = data_id.groupby('Level')[['Level']].count()\n",
    "data_Level['engage_per_influ'] = data_Level.Engagement/data_Level.sum_influ\n",
    "data_Level['deals_per_influ'] = data_Level.Deal/data_Level.sum_influ\n",
    "data_Level['price']=[160,140,110,70,20]\n",
    "data_Level['profit_per_influ']=data_Level.deals_per_influ*data_Level.price\n",
    "data_Level['precentage_pro_per_influ'] = data_Level.profit_per_influ*100/data_Level.profit_per_influ.sum()\n",
    "data_Level['total_profit_per_level']=data_Level.Deal*data_Level.price\n",
    "data_Level['precentage_sum_pro'] = data_Level.total_profit_per_level*100 /data_Level.total_profit_per_level.sum()\n",
    "data_Level"
   ]
  },
  {
   "cell_type": "code",
   "execution_count": 33,
   "id": "58c2aec7-db16-4042-b62c-e71eefdaef07",
   "metadata": {},
   "outputs": [
    {
     "data": {
      "text/plain": [
       "Text(0.5, 0, 'Percentage of incomes by level')"
      ]
     },
     "execution_count": 33,
     "metadata": {},
     "output_type": "execute_result"
    },
    {
     "data": {
      "image/png": "[encoded data removed]",
      "text/plain": [
       "<Figure size 1440x360 with 2 Axes>"
      ]
     },
     "metadata": {
      "needs_background": "light"
     },
     "output_type": "display_data"
    }
   ],
   "source": [
    "fig, axes = plt.subplots(figsize=(20, 5), ncols=2)\n",
    "#plt2= sns.barplot(data = data_Level,x=data_Level.index, y='total_profit_per_level',edgecolor = 'black',ax= axes[1])\n",
    "plt3 =sns.barplot(data = data_Level,x=data_Level.index, y='precentage_pro_per_influ',edgecolor = 'black',ax= axes[0])\n",
    "plt1 = data_in['Level'].value_counts().plot.pie(autopct='%1.1f%%',ax= axes[1],colors = ['red','green','orange','purple', 'blue'])\n",
    "plt1.set_xlabel(\"Percentage of influencers by level\")\n",
    "#plt2.set_xlabel(\"Incomes by level\")\n",
    "plt3.set_xlabel(\"Percentage of incomes by level\")"
   ]
  },
  {
   "cell_type": "markdown",
   "id": "a2d515c8-006f-4910-bc38-db6b743e2f28",
   "metadata": {},
   "source": [
    "* ניתן לראות שרמות 40 ו50 מהווים פחות מ10% מכלל ההכנסות החברה למרות שהם 63% מכלל המשפיענים \n",
    "* ניתן לראות שרמה 10 היא הרווחית ביותר ומהווה כ 50% מהכנסות החברה למרות שרמה 10 היא רק 7% מכלל המשפיענים"
   ]
  },
  {
   "cell_type": "markdown",
   "id": "1ec15b36-83c1-4c8e-83d3-168c20551422",
   "metadata": {},
   "source": [
    "# ניתוח רווחיות לפי מגדר "
   ]
  },
  {
   "cell_type": "markdown",
   "id": "e34d1fb2-b9b8-4541-a1e7-3cfa49908d73",
   "metadata": {},
   "source": [
    "<img src=\"https://wp02-media.cdn.ihealthspot.com/wp-content/uploads/sites/486/2019/09/27153206/Testosterone-Levels-in-Men-vs.-Women.jpg\" width=\"400\"/>"
   ]
  },
  {
   "cell_type": "code",
   "execution_count": 34,
   "id": "3c1d6959-dc82-41fd-9066-50b79c6baa50",
   "metadata": {},
   "outputs": [
    {
     "data": {
      "text/html": [
       "<div>\n",
       "<style scoped>\n",
       "    .dataframe tbody tr th:only-of-type {\n",
       "        vertical-align: middle;\n",
       "    }\n",
       "\n",
       "    .dataframe tbody tr th {\n",
       "        vertical-align: top;\n",
       "    }\n",
       "\n",
       "    .dataframe thead th {\n",
       "        text-align: right;\n",
       "    }\n",
       "</style>\n",
       "<table border=\"1\" class=\"dataframe\">\n",
       "  <thead>\n",
       "    <tr style=\"text-align: right;\">\n",
       "      <th></th>\n",
       "      <th>Read</th>\n",
       "      <th>Deal</th>\n",
       "      <th>Recieved</th>\n",
       "      <th>precent deal</th>\n",
       "    </tr>\n",
       "    <tr>\n",
       "      <th>Gender</th>\n",
       "      <th></th>\n",
       "      <th></th>\n",
       "      <th></th>\n",
       "      <th></th>\n",
       "    </tr>\n",
       "  </thead>\n",
       "  <tbody>\n",
       "    <tr>\n",
       "      <th>Female</th>\n",
       "      <td>8276.0</td>\n",
       "      <td>4912.0</td>\n",
       "      <td>17492.0</td>\n",
       "      <td>0.160104</td>\n",
       "    </tr>\n",
       "    <tr>\n",
       "      <th>Male</th>\n",
       "      <td>3288.0</td>\n",
       "      <td>2221.0</td>\n",
       "      <td>8019.0</td>\n",
       "      <td>0.164178</td>\n",
       "    </tr>\n",
       "  </tbody>\n",
       "</table>\n",
       "</div>"
      ],
      "text/plain": [
       "          Read    Deal  Recieved  precent deal\n",
       "Gender                                        \n",
       "Female  8276.0  4912.0   17492.0      0.160104\n",
       "Male    3288.0  2221.0    8019.0      0.164178"
      ]
     },
     "execution_count": 34,
     "metadata": {},
     "output_type": "execute_result"
    }
   ],
   "source": [
    "data_Gender= data_in.groupby('Gender')[['Read']].sum()\n",
    "data_Gender['Deal'] = data_in.groupby('Gender')[['Deal']].sum()\n",
    "data_Gender['Recieved'] = data_in.groupby('Gender')[['Recieved']].sum()\n",
    "data_Gender['precent deal'] = data_Gender.Deal /(data_Gender.Deal +data_Gender.Recieved + data_Gender.Read) \n",
    "data_Gender"
   ]
  },
  {
   "cell_type": "code",
   "execution_count": 35,
   "id": "4e87643d-5c91-4ed4-b02c-29d7a5a885ca",
   "metadata": {},
   "outputs": [],
   "source": [
    "data_id = data_in.groupby('InfluencerId')\n",
    "data_id= data_id.first()\n"
   ]
  },
  {
   "cell_type": "markdown",
   "id": "072e3a13-dfaa-424b-8d34-ed89165c5a0d",
   "metadata": {},
   "source": [
    "משתנה חדש המסודר לפי משפענים"
   ]
  },
  {
   "cell_type": "code",
   "execution_count": 36,
   "id": "e70490f1-9ba3-4539-bf05-854525a90b05",
   "metadata": {},
   "outputs": [
    {
     "data": {
      "text/plain": [
       "Text(0.5, 0, 'Precent_Deals')"
      ]
     },
     "execution_count": 36,
     "metadata": {},
     "output_type": "execute_result"
    },
    {
     "data": {
      "image/png": "[encoded data removed]",
      "text/plain": [
       "<Figure size 1224x360 with 4 Axes>"
      ]
     },
     "metadata": {
      "needs_background": "light"
     },
     "output_type": "display_data"
    }
   ],
   "source": [
    "fig, axes = plt.subplots(figsize=(17, 5), ncols=4)\n",
    "\n",
    "countpolt1 = sns.countplot(data = data_id,x= 'Gender' , ax = axes[0])\n",
    "countpolt2 = sns.countplot(data = data_in,x= 'Gender' , ax = axes[1])\n",
    "sns.countplot(data = data_in,x= 'Status',hue = 'Gender', ax = axes[2])\n",
    "barplot1  = sns.barplot(data = data_Gender,x= data_Gender.index, y = 'precent deal', ax = axes[3])\n",
    "countpolt1.set_xlabel('Amount_Influencers')\n",
    "countpolt2.set_xlabel('Amount_transcations')\n",
    "barplot1.set_xlabel('Precent_Deals')"
   ]
  },
  {
   "cell_type": "code",
   "execution_count": 37,
   "id": "b1f91a72-357f-4c0e-8efc-abe5f4298a6b",
   "metadata": {},
   "outputs": [
    {
     "data": {
      "text/plain": [
       "Text(0.5, 0, 'Percentage of deals')"
      ]
     },
     "execution_count": 37,
     "metadata": {},
     "output_type": "execute_result"
    },
    {
     "data": {
      "image/png": "[encoded data removed]",
      "text/plain": [
       "<Figure size 1224x360 with 2 Axes>"
      ]
     },
     "metadata": {},
     "output_type": "display_data"
    }
   ],
   "source": [
    "fig, axes = plt.subplots(figsize=(17, 5), ncols=2)\n",
    "plt1 = data_id['Gender'].value_counts().plot.pie(autopct='%1.f%%',ax= axes[0])\n",
    "plt1.set_xlabel(\"Percentage of influencers\") \n",
    "plt2 = data_Deal['Gender'].value_counts().plot.pie(autopct='%1.f%%',ax= axes[1])\n",
    "plt2.set_xlabel(\"Percentage of deals\") "
   ]
  },
  {
   "cell_type": "markdown",
   "id": "bb63e241-caae-49ad-a1fc-5081cc7ff0a2",
   "metadata": {},
   "source": [
    "* ניתן לראות שרבע מהמשפענים הם גברים אך הם מבצעים כשליש מכמות העסקאות ולכן הם יותר עדיפים לגיוס  "
   ]
  },
  {
   "cell_type": "markdown",
   "id": "f7436be4-1394-45a1-9498-dd6235bf1958",
   "metadata": {},
   "source": [
    "# ניתוח  קטוגריה הכי רווחית"
   ]
  },
  {
   "cell_type": "markdown",
   "id": "798a61a9-0b13-43f2-b70b-0b2460197922",
   "metadata": {},
   "source": [
    "<img src=\"https://resources.workable.com/wp-content/uploads/2016/01/category-manager-640x230.jpg\" width=\"400\"/>"
   ]
  },
  {
   "cell_type": "code",
   "execution_count": 38,
   "id": "90fd40de-ce52-45fe-b98c-dbfbd8840367",
   "metadata": {},
   "outputs": [],
   "source": [
    "data_Deal = data_in.loc[data_in.Status == 0].copy()"
   ]
  },
  {
   "cell_type": "code",
   "execution_count": 39,
   "id": "7f9f4642-89d0-4419-871e-ff36138450eb",
   "metadata": {},
   "outputs": [
    {
     "data": {
      "text/plain": [
       "<AxesSubplot:xlabel='Beauty', ylabel='count'>"
      ]
     },
     "execution_count": 39,
     "metadata": {},
     "output_type": "execute_result"
    },
    {
     "data": {
      "image/png": "[encoded data removed]",
      "text/plain": [
       "<Figure size 1080x360 with 5 Axes>"
      ]
     },
     "metadata": {
      "needs_background": "light"
     },
     "output_type": "display_data"
    }
   ],
   "source": [
    "fig, axes = plt.subplots(figsize=(15, 5), ncols=5, sharey = True )#log_scale = True )\n",
    "\n",
    "sns.countplot(data = data_Deal,x= 'Model',palette = 'Set1' ,ax = axes[0])\n",
    "sns.countplot(data = data_Deal,x= 'Foody',palette = 'Set1', ax = axes[1])\n",
    "sns.countplot(data = data_Deal,x= 'Sport',palette = 'Set1', ax = axes[2])\n",
    "sns.countplot(data = data_Deal,x= 'Fashion',palette = 'Set1', ax = axes[3])\n",
    "sns.countplot(data = data_Deal,x= 'Beauty',palette = 'Set1', ax = axes[4])"
   ]
  },
  {
   "cell_type": "markdown",
   "id": "b4286b4c-37bc-4d19-a7e6-e39360271cd4",
   "metadata": {},
   "source": [
    "### מקרא:\n",
    "\n",
    "| Column      | Description |\n",
    "|:----------- |:----------- |\n",
    "| 0      | המשפיען וגם העסק לא בקטגוריה       |\n",
    "| 1       | רק העסק בקטגוריה       |\n",
    "| 2      | רק המשפיען בקטגוריה    |\n",
    "| 3       |  העסק והמשפיען באותה קטגוריה      |"
   ]
  },
  {
   "cell_type": "code",
   "execution_count": 46,
   "id": "3918bb82-3632-483b-935f-ff1ed437a9a3",
   "metadata": {},
   "outputs": [
    {
     "data": {
      "text/plain": [
       "<AxesSubplot:xlabel='Foody', ylabel='count'>"
      ]
     },
     "execution_count": 46,
     "metadata": {},
     "output_type": "execute_result"
    },
    {
     "data": {
      "image/png": "[encoded data removed]",
      "text/plain": [
       "<Figure size 432x288 with 1 Axes>"
      ]
     },
     "metadata": {
      "needs_background": "light"
     },
     "output_type": "display_data"
    }
   ],
   "source": [
    "sns.countplot(data = data_Deal,x= 'Foody',palette = 'Set1',hue='Level')"
   ]
  },
  {
   "cell_type": "code",
   "execution_count": 47,
   "id": "f45362e1-002c-458c-9bc5-40d54da002d0",
   "metadata": {},
   "outputs": [
    {
     "data": {
      "text/plain": [
       "Text(0.5, 0, '3 in Foody per innfluence')"
      ]
     },
     "execution_count": 47,
     "metadata": {},
     "output_type": "execute_result"
    },
    {
     "data": {
      "image/png": "[encoded data removed]",
      "text/plain": [
       "<Figure size 432x288 with 1 Axes>"
      ]
     },
     "metadata": {
      "needs_background": "light"
     },
     "output_type": "display_data"
    }
   ],
   "source": [
    "data_level = data_Deal.groupby('Foody')[['Deal']].count()\n",
    "data_level['level10'] = data_Deal.groupby('Foody')[['Level']].apply(lambda x:(x==10).sum()).fillna(0)/7.3\n",
    "data_level['level20'] = data_Deal.groupby('Foody')[['Level']].apply(lambda x:(x==20).sum()).fillna(0)/17.8\n",
    "data_level['level30'] = data_Deal.groupby('Foody')[['Level']].apply(lambda x:(x==30).sum()).fillna(0)/21\n",
    "data_level['level40'] = data_Deal.groupby('Foody')[['Level']].apply(lambda x:(x==40).sum()).fillna(0)/41.6\n",
    "data_level['level50'] = data_Deal.groupby('Foody')[['Level']].apply(lambda x:(x==50).sum()).fillna(0)/12.3\n",
    "data_level = data_level.melt()\n",
    "data_level= data_level.iloc[[5,8,11,14,17]]\n",
    "plt= sns.barplot(data = data_level,x= 'variable', y = 'value')\n",
    "plt.set_xlabel(\"3 in Foody per innfluence\")"
   ]
  },
  {
   "cell_type": "markdown",
   "id": "5213338b-94d7-403e-9d56-c0c681a21ea2",
   "metadata": {},
   "source": [
    "* אין קורולציה בין מידת ההתאמה של תחום המשפיען לתחום העסק לבין כמות העסקאות \n",
    "* ניתן לראות שהקטגוריה שבה מידת ההתאמה של תחום המשפיען לתחום העסק הגבוהה היותר הכי אוכל\n",
    "* ניתן לראות שהרמה הדומיננטית היא דווקא רמה 10 ולא 40"
   ]
  },
  {
   "cell_type": "markdown",
   "id": "fe6574fc-2778-43a3-9575-fa2a146fa236",
   "metadata": {},
   "source": [
    "# ניתוח רווחיות לפי גיל"
   ]
  },
  {
   "cell_type": "markdown",
   "id": "4bccb220-1c2a-403a-8e61-e8ef232f6806",
   "metadata": {},
   "source": [
    "<img src=\"https://changetherapy.files.wordpress.com/2020/07/age.jpg\" width=\"600\"/>"
   ]
  },
  {
   "cell_type": "code",
   "execution_count": 42,
   "id": "28c660ea-7547-446e-bffe-395335dfa2da",
   "metadata": {},
   "outputs": [
    {
     "data": {
      "text/html": [
       "<div>\n",
       "<style scoped>\n",
       "    .dataframe tbody tr th:only-of-type {\n",
       "        vertical-align: middle;\n",
       "    }\n",
       "\n",
       "    .dataframe tbody tr th {\n",
       "        vertical-align: top;\n",
       "    }\n",
       "\n",
       "    .dataframe thead th {\n",
       "        text-align: right;\n",
       "    }\n",
       "</style>\n",
       "<table border=\"1\" class=\"dataframe\">\n",
       "  <thead>\n",
       "    <tr style=\"text-align: right;\">\n",
       "      <th></th>\n",
       "      <th>Engagement</th>\n",
       "      <th>Deal</th>\n",
       "      <th>sum_influ</th>\n",
       "      <th>engage_per_influ</th>\n",
       "      <th>deals_per_influ</th>\n",
       "    </tr>\n",
       "    <tr>\n",
       "      <th>Age Group</th>\n",
       "      <th></th>\n",
       "      <th></th>\n",
       "      <th></th>\n",
       "      <th></th>\n",
       "      <th></th>\n",
       "    </tr>\n",
       "  </thead>\n",
       "  <tbody>\n",
       "    <tr>\n",
       "      <th>14-17</th>\n",
       "      <td>644952</td>\n",
       "      <td>192.0</td>\n",
       "      <td>63</td>\n",
       "      <td>10237.333333</td>\n",
       "      <td>3.047619</td>\n",
       "    </tr>\n",
       "    <tr>\n",
       "      <th>18-25</th>\n",
       "      <td>6613543</td>\n",
       "      <td>4068.0</td>\n",
       "      <td>1056</td>\n",
       "      <td>6262.824811</td>\n",
       "      <td>3.852273</td>\n",
       "    </tr>\n",
       "    <tr>\n",
       "      <th>25-29</th>\n",
       "      <td>3723539</td>\n",
       "      <td>2016.0</td>\n",
       "      <td>479</td>\n",
       "      <td>7773.567850</td>\n",
       "      <td>4.208768</td>\n",
       "    </tr>\n",
       "    <tr>\n",
       "      <th>30-34</th>\n",
       "      <td>1402147</td>\n",
       "      <td>674.0</td>\n",
       "      <td>176</td>\n",
       "      <td>7966.744318</td>\n",
       "      <td>3.829545</td>\n",
       "    </tr>\n",
       "    <tr>\n",
       "      <th>35-40</th>\n",
       "      <td>82902</td>\n",
       "      <td>72.0</td>\n",
       "      <td>56</td>\n",
       "      <td>1480.392857</td>\n",
       "      <td>1.285714</td>\n",
       "    </tr>\n",
       "    <tr>\n",
       "      <th>44-55</th>\n",
       "      <td>91328</td>\n",
       "      <td>111.0</td>\n",
       "      <td>23</td>\n",
       "      <td>3970.782609</td>\n",
       "      <td>4.826087</td>\n",
       "    </tr>\n",
       "  </tbody>\n",
       "</table>\n",
       "</div>"
      ],
      "text/plain": [
       "           Engagement    Deal  sum_influ  engage_per_influ  deals_per_influ\n",
       "Age Group                                                                  \n",
       "14-17          644952   192.0         63      10237.333333         3.047619\n",
       "18-25         6613543  4068.0       1056       6262.824811         3.852273\n",
       "25-29         3723539  2016.0        479       7773.567850         4.208768\n",
       "30-34         1402147   674.0        176       7966.744318         3.829545\n",
       "35-40           82902    72.0         56       1480.392857         1.285714\n",
       "44-55           91328   111.0         23       3970.782609         4.826087"
      ]
     },
     "execution_count": 42,
     "metadata": {},
     "output_type": "execute_result"
    }
   ],
   "source": [
    "data_Age = data_Deal.groupby('Age Group')[['Engagement']].sum()\n",
    "data_Age['Deal'] = data_in.groupby('Age Group')[['Deal']].sum()\n",
    "data_Age['sum_influ'] = data_id.groupby('Age Group')[['Age Group']].count()\n",
    "data_Age['engage_per_influ'] = data_Age.Engagement/data_Age.sum_influ\n",
    "data_Age['deals_per_influ'] = data_Age.Deal/data_Age.sum_influ\n",
    "\n",
    "data_Age"
   ]
  },
  {
   "cell_type": "code",
   "execution_count": 43,
   "id": "b56adb1e-ce6a-4f05-a175-4256346c22ef",
   "metadata": {},
   "outputs": [
    {
     "data": {
      "text/plain": [
       "<AxesSubplot:xlabel='Age Group', ylabel='deals_per_influ'>"
      ]
     },
     "execution_count": 43,
     "metadata": {},
     "output_type": "execute_result"
    },
    {
     "data": {
      "image/png": "[encoded data removed]",
      "text/plain": [
       "<Figure size 864x720 with 3 Axes>"
      ]
     },
     "metadata": {
      "needs_background": "light"
     },
     "output_type": "display_data"
    }
   ],
   "source": [
    "import matplotlib.pyplot as plt\n",
    "fig, axes = plt.subplots(3,1,figsize=(12,10))#log_scale = True )\n",
    "sns.barplot(data = data_Age,x=data_Age.index, y='Deal' , ax = axes[0])\n",
    "sns.barplot(data = data_Age,x=data_Age.index, y='sum_influ',ax = axes[1])\n",
    "sns.barplot(data = data_Age,x=data_Age.index, y='deals_per_influ',ax = axes[2])"
   ]
  },
  {
   "cell_type": "markdown",
   "id": "a3d7b19e-3924-47e0-ad49-c995ea4280b7",
   "metadata": {},
   "source": [
    "* ניתן לראות שהגיל הרווחי הוא גלאי 18-34 ומשם ירידה "
   ]
  },
  {
   "cell_type": "markdown",
   "id": "2f3494af-f0ee-4db8-95d7-b446c76c8a68",
   "metadata": {},
   "source": [
    "# Extra to the company"
   ]
  },
  {
   "cell_type": "markdown",
   "id": "be276b66-bfa7-4af4-9e6d-a3adffb76618",
   "metadata": {},
   "source": [
    "טבלת ריווחיות ערים"
   ]
  },
  {
   "cell_type": "code",
   "execution_count": 44,
   "id": "ad942142-af2e-45a0-8e5b-03bb27f9c5ce",
   "metadata": {},
   "outputs": [
    {
     "data": {
      "text/html": [
       "<div>\n",
       "<style scoped>\n",
       "    .dataframe tbody tr th:only-of-type {\n",
       "        vertical-align: middle;\n",
       "    }\n",
       "\n",
       "    .dataframe tbody tr th {\n",
       "        vertical-align: top;\n",
       "    }\n",
       "\n",
       "    .dataframe thead th {\n",
       "        text-align: right;\n",
       "    }\n",
       "</style>\n",
       "<table border=\"1\" class=\"dataframe\">\n",
       "  <thead>\n",
       "    <tr style=\"text-align: right;\">\n",
       "      <th></th>\n",
       "      <th>Deal</th>\n",
       "      <th>level10_in_city</th>\n",
       "      <th>level20_in_city</th>\n",
       "      <th>level30_in_city</th>\n",
       "      <th>level40_in_city</th>\n",
       "      <th>level50_in_city</th>\n",
       "      <th>Deal_male</th>\n",
       "      <th>Deal_female</th>\n",
       "      <th>sum_profit</th>\n",
       "    </tr>\n",
       "    <tr>\n",
       "      <th>City</th>\n",
       "      <th></th>\n",
       "      <th></th>\n",
       "      <th></th>\n",
       "      <th></th>\n",
       "      <th></th>\n",
       "      <th></th>\n",
       "      <th></th>\n",
       "      <th></th>\n",
       "      <th></th>\n",
       "    </tr>\n",
       "  </thead>\n",
       "  <tbody>\n",
       "    <tr>\n",
       "      <th>תל אביב-יפו</th>\n",
       "      <td>1990.0</td>\n",
       "      <td>173.0</td>\n",
       "      <td>312.0</td>\n",
       "      <td>507.0</td>\n",
       "      <td>751.0</td>\n",
       "      <td>247.0</td>\n",
       "      <td>629.0</td>\n",
       "      <td>1361.0</td>\n",
       "      <td>184640.0</td>\n",
       "    </tr>\n",
       "    <tr>\n",
       "      <th>ראשון לציון</th>\n",
       "      <td>831.0</td>\n",
       "      <td>76.0</td>\n",
       "      <td>194.0</td>\n",
       "      <td>190.0</td>\n",
       "      <td>306.0</td>\n",
       "      <td>65.0</td>\n",
       "      <td>257.0</td>\n",
       "      <td>574.0</td>\n",
       "      <td>82940.0</td>\n",
       "    </tr>\n",
       "    <tr>\n",
       "      <th>Delivery</th>\n",
       "      <td>774.0</td>\n",
       "      <td>74.0</td>\n",
       "      <td>125.0</td>\n",
       "      <td>120.0</td>\n",
       "      <td>148.0</td>\n",
       "      <td>307.0</td>\n",
       "      <td>167.0</td>\n",
       "      <td>607.0</td>\n",
       "      <td>59040.0</td>\n",
       "    </tr>\n",
       "    <tr>\n",
       "      <th>נתניה</th>\n",
       "      <td>556.0</td>\n",
       "      <td>89.0</td>\n",
       "      <td>107.0</td>\n",
       "      <td>109.0</td>\n",
       "      <td>222.0</td>\n",
       "      <td>29.0</td>\n",
       "      <td>124.0</td>\n",
       "      <td>432.0</td>\n",
       "      <td>57330.0</td>\n",
       "    </tr>\n",
       "    <tr>\n",
       "      <th>פתח תקווה</th>\n",
       "      <td>326.0</td>\n",
       "      <td>23.0</td>\n",
       "      <td>71.0</td>\n",
       "      <td>53.0</td>\n",
       "      <td>156.0</td>\n",
       "      <td>23.0</td>\n",
       "      <td>121.0</td>\n",
       "      <td>205.0</td>\n",
       "      <td>30830.0</td>\n",
       "    </tr>\n",
       "    <tr>\n",
       "      <th>...</th>\n",
       "      <td>...</td>\n",
       "      <td>...</td>\n",
       "      <td>...</td>\n",
       "      <td>...</td>\n",
       "      <td>...</td>\n",
       "      <td>...</td>\n",
       "      <td>...</td>\n",
       "      <td>...</td>\n",
       "      <td>...</td>\n",
       "    </tr>\n",
       "    <tr>\n",
       "      <th>מבשרת ציון</th>\n",
       "      <td>0.0</td>\n",
       "      <td>NaN</td>\n",
       "      <td>NaN</td>\n",
       "      <td>NaN</td>\n",
       "      <td>NaN</td>\n",
       "      <td>NaN</td>\n",
       "      <td>NaN</td>\n",
       "      <td>NaN</td>\n",
       "      <td>NaN</td>\n",
       "    </tr>\n",
       "    <tr>\n",
       "      <th>כפר אחים</th>\n",
       "      <td>0.0</td>\n",
       "      <td>NaN</td>\n",
       "      <td>NaN</td>\n",
       "      <td>NaN</td>\n",
       "      <td>NaN</td>\n",
       "      <td>NaN</td>\n",
       "      <td>NaN</td>\n",
       "      <td>NaN</td>\n",
       "      <td>NaN</td>\n",
       "    </tr>\n",
       "    <tr>\n",
       "      <th>רמת ישי</th>\n",
       "      <td>0.0</td>\n",
       "      <td>NaN</td>\n",
       "      <td>NaN</td>\n",
       "      <td>NaN</td>\n",
       "      <td>NaN</td>\n",
       "      <td>NaN</td>\n",
       "      <td>NaN</td>\n",
       "      <td>NaN</td>\n",
       "      <td>NaN</td>\n",
       "    </tr>\n",
       "    <tr>\n",
       "      <th>כפר יונה</th>\n",
       "      <td>0.0</td>\n",
       "      <td>NaN</td>\n",
       "      <td>NaN</td>\n",
       "      <td>NaN</td>\n",
       "      <td>NaN</td>\n",
       "      <td>NaN</td>\n",
       "      <td>NaN</td>\n",
       "      <td>NaN</td>\n",
       "      <td>NaN</td>\n",
       "    </tr>\n",
       "    <tr>\n",
       "      <th>עיר הבהדים</th>\n",
       "      <td>0.0</td>\n",
       "      <td>NaN</td>\n",
       "      <td>NaN</td>\n",
       "      <td>NaN</td>\n",
       "      <td>NaN</td>\n",
       "      <td>NaN</td>\n",
       "      <td>NaN</td>\n",
       "      <td>NaN</td>\n",
       "      <td>NaN</td>\n",
       "    </tr>\n",
       "  </tbody>\n",
       "</table>\n",
       "<p>67 rows × 9 columns</p>\n",
       "</div>"
      ],
      "text/plain": [
       "               Deal  level10_in_city  level20_in_city  level30_in_city  \\\n",
       "City                                                                     \n",
       "תל אביב-יפו  1990.0            173.0            312.0            507.0   \n",
       "ראשון לציון   831.0             76.0            194.0            190.0   \n",
       "Delivery      774.0             74.0            125.0            120.0   \n",
       "נתניה         556.0             89.0            107.0            109.0   \n",
       "פתח תקווה     326.0             23.0             71.0             53.0   \n",
       "...             ...              ...              ...              ...   \n",
       "מבשרת ציון      0.0              NaN              NaN              NaN   \n",
       "כפר אחים        0.0              NaN              NaN              NaN   \n",
       "רמת ישי         0.0              NaN              NaN              NaN   \n",
       "כפר יונה        0.0              NaN              NaN              NaN   \n",
       "עיר הבהדים      0.0              NaN              NaN              NaN   \n",
       "\n",
       "             level40_in_city  level50_in_city  Deal_male  Deal_female  \\\n",
       "City                                                                    \n",
       "תל אביב-יפו            751.0            247.0      629.0       1361.0   \n",
       "ראשון לציון            306.0             65.0      257.0        574.0   \n",
       "Delivery               148.0            307.0      167.0        607.0   \n",
       "נתניה                  222.0             29.0      124.0        432.0   \n",
       "פתח תקווה              156.0             23.0      121.0        205.0   \n",
       "...                      ...              ...        ...          ...   \n",
       "מבשרת ציון               NaN              NaN        NaN          NaN   \n",
       "כפר אחים                 NaN              NaN        NaN          NaN   \n",
       "רמת ישי                  NaN              NaN        NaN          NaN   \n",
       "כפר יונה                 NaN              NaN        NaN          NaN   \n",
       "עיר הבהדים               NaN              NaN        NaN          NaN   \n",
       "\n",
       "             sum_profit  \n",
       "City                     \n",
       "תל אביב-יפו    184640.0  \n",
       "ראשון לציון     82940.0  \n",
       "Delivery        59040.0  \n",
       "נתניה           57330.0  \n",
       "פתח תקווה       30830.0  \n",
       "...                 ...  \n",
       "מבשרת ציון          NaN  \n",
       "כפר אחים            NaN  \n",
       "רמת ישי             NaN  \n",
       "כפר יונה            NaN  \n",
       "עיר הבהדים          NaN  \n",
       "\n",
       "[67 rows x 9 columns]"
      ]
     },
     "execution_count": 44,
     "metadata": {},
     "output_type": "execute_result"
    }
   ],
   "source": [
    "data_city = data_in.groupby('City')[['Deal']].sum()\n",
    "data_city['level10_in_city'] = data_Deal.groupby('City')[['Level']].apply(lambda x:(x==10).sum()).fillna(0)\n",
    "data_city['level20_in_city'] = data_Deal.groupby('City')[['Level']].apply(lambda x:(x==20).sum()).fillna(0)\n",
    "data_city['level30_in_city'] = data_Deal.groupby('City')[['Level']].apply(lambda x:(x==30).sum()).fillna(0)\n",
    "data_city['level40_in_city'] = data_Deal.groupby('City')[['Level']].apply(lambda x:(x==40).sum()).fillna(0)\n",
    "data_city['level50_in_city'] = data_Deal.groupby('City')[['Level']].apply(lambda x:(x==50).sum()).fillna(0)\n",
    "data_city['Deal_male'] = data_Deal.groupby('City')[['Gender']].apply(lambda x:(x=='Male').sum()).fillna(0)\n",
    "data_city['Deal_female'] = data_Deal.groupby('City')[['Gender']].apply(lambda x:(x=='Female').sum()).fillna(0)\n",
    "data_city['sum_profit'] = (data_city.level10_in_city*160)+(data_city.level20_in_city*140)+(data_city.level30_in_city*110)+(data_city.level40_in_city*70)+(data_city.level50_in_city*20)\n",
    "data_city = data_city.sort_values('Deal',ascending = False)\n",
    "data_city"
   ]
  },
  {
   "cell_type": "markdown",
   "id": "3be8f3e8-f1d3-4395-ac6a-70a682240567",
   "metadata": {},
   "source": [
    "*  נראה שהערים הכי מכניסות הם תל אביב , ראשון לציון ,נתניה ומשלוחים "
   ]
  },
  {
   "cell_type": "markdown",
   "id": "6b1731c9-e277-4fa5-b8ab-0bc443b49fe9",
   "metadata": {},
   "source": [
    "* העיר שבה כמות העסקאות לבית עסק הגבוהה ביותר הם גבעת גרנרת נשר והרצליה פיתוח"
   ]
  },
  {
   "cell_type": "markdown",
   "id": "e4ead835-54c0-4a40-a997-05248e6d1da0",
   "metadata": {},
   "source": [
    "בדיקת רשתות הכי משתלמות"
   ]
  },
  {
   "cell_type": "code",
   "execution_count": 45,
   "id": "01db3a10-3fdf-40ba-81a2-d1da2a41b0b0",
   "metadata": {
    "tags": []
   },
   "outputs": [
    {
     "data": {
      "text/html": [
       "<div>\n",
       "<style scoped>\n",
       "    .dataframe tbody tr th:only-of-type {\n",
       "        vertical-align: middle;\n",
       "    }\n",
       "\n",
       "    .dataframe tbody tr th {\n",
       "        vertical-align: top;\n",
       "    }\n",
       "\n",
       "    .dataframe thead th {\n",
       "        text-align: right;\n",
       "    }\n",
       "</style>\n",
       "<table border=\"1\" class=\"dataframe\">\n",
       "  <thead>\n",
       "    <tr style=\"text-align: right;\">\n",
       "      <th></th>\n",
       "      <th>Deal</th>\n",
       "      <th>level10_in_bis</th>\n",
       "      <th>level20_in_bis</th>\n",
       "      <th>level30_in_bis</th>\n",
       "      <th>level40_in_bis</th>\n",
       "      <th>level50_in_bis</th>\n",
       "      <th>Deal_male</th>\n",
       "      <th>Deal_female</th>\n",
       "      <th>sum_profit</th>\n",
       "    </tr>\n",
       "    <tr>\n",
       "      <th>BusinessId</th>\n",
       "      <th></th>\n",
       "      <th></th>\n",
       "      <th></th>\n",
       "      <th></th>\n",
       "      <th></th>\n",
       "      <th></th>\n",
       "      <th></th>\n",
       "      <th></th>\n",
       "      <th></th>\n",
       "    </tr>\n",
       "  </thead>\n",
       "  <tbody>\n",
       "    <tr>\n",
       "      <th>9d0KDpUikZmDG5NGvfD2</th>\n",
       "      <td>219.0</td>\n",
       "      <td>22.0</td>\n",
       "      <td>62.0</td>\n",
       "      <td>49.0</td>\n",
       "      <td>77.0</td>\n",
       "      <td>9.0</td>\n",
       "      <td>70.0</td>\n",
       "      <td>149.0</td>\n",
       "      <td>23160.0</td>\n",
       "    </tr>\n",
       "    <tr>\n",
       "      <th>HvYkRPcooVGeK1LP1ho3</th>\n",
       "      <td>198.0</td>\n",
       "      <td>31.0</td>\n",
       "      <td>25.0</td>\n",
       "      <td>29.0</td>\n",
       "      <td>99.0</td>\n",
       "      <td>14.0</td>\n",
       "      <td>46.0</td>\n",
       "      <td>152.0</td>\n",
       "      <td>18860.0</td>\n",
       "    </tr>\n",
       "    <tr>\n",
       "      <th>rwOeTHgnZL5ELr1SJkjj</th>\n",
       "      <td>159.0</td>\n",
       "      <td>12.0</td>\n",
       "      <td>29.0</td>\n",
       "      <td>42.0</td>\n",
       "      <td>57.0</td>\n",
       "      <td>19.0</td>\n",
       "      <td>44.0</td>\n",
       "      <td>115.0</td>\n",
       "      <td>14970.0</td>\n",
       "    </tr>\n",
       "    <tr>\n",
       "      <th>rdWdfC8nz89l1znyG5Kl</th>\n",
       "      <td>135.0</td>\n",
       "      <td>22.0</td>\n",
       "      <td>17.0</td>\n",
       "      <td>38.0</td>\n",
       "      <td>49.0</td>\n",
       "      <td>9.0</td>\n",
       "      <td>53.0</td>\n",
       "      <td>82.0</td>\n",
       "      <td>13690.0</td>\n",
       "    </tr>\n",
       "    <tr>\n",
       "      <th>DYEEEyOFJiOOZ0XVQOtL</th>\n",
       "      <td>106.0</td>\n",
       "      <td>17.0</td>\n",
       "      <td>18.0</td>\n",
       "      <td>24.0</td>\n",
       "      <td>17.0</td>\n",
       "      <td>30.0</td>\n",
       "      <td>46.0</td>\n",
       "      <td>60.0</td>\n",
       "      <td>9670.0</td>\n",
       "    </tr>\n",
       "    <tr>\n",
       "      <th>...</th>\n",
       "      <td>...</td>\n",
       "      <td>...</td>\n",
       "      <td>...</td>\n",
       "      <td>...</td>\n",
       "      <td>...</td>\n",
       "      <td>...</td>\n",
       "      <td>...</td>\n",
       "      <td>...</td>\n",
       "      <td>...</td>\n",
       "    </tr>\n",
       "    <tr>\n",
       "      <th>nApQVFDg4ohKjUROMYTR</th>\n",
       "      <td>0.0</td>\n",
       "      <td>NaN</td>\n",
       "      <td>NaN</td>\n",
       "      <td>NaN</td>\n",
       "      <td>NaN</td>\n",
       "      <td>NaN</td>\n",
       "      <td>NaN</td>\n",
       "      <td>NaN</td>\n",
       "      <td>NaN</td>\n",
       "    </tr>\n",
       "    <tr>\n",
       "      <th>GDYHkRYe4BnC6vxKlmVE</th>\n",
       "      <td>0.0</td>\n",
       "      <td>NaN</td>\n",
       "      <td>NaN</td>\n",
       "      <td>NaN</td>\n",
       "      <td>NaN</td>\n",
       "      <td>NaN</td>\n",
       "      <td>NaN</td>\n",
       "      <td>NaN</td>\n",
       "      <td>NaN</td>\n",
       "    </tr>\n",
       "    <tr>\n",
       "      <th>A0qHc2Y4iXcNoY4CPdyB</th>\n",
       "      <td>0.0</td>\n",
       "      <td>NaN</td>\n",
       "      <td>NaN</td>\n",
       "      <td>NaN</td>\n",
       "      <td>NaN</td>\n",
       "      <td>NaN</td>\n",
       "      <td>NaN</td>\n",
       "      <td>NaN</td>\n",
       "      <td>NaN</td>\n",
       "    </tr>\n",
       "    <tr>\n",
       "      <th>Td7H92K3ydIw0rG7mPs3</th>\n",
       "      <td>0.0</td>\n",
       "      <td>NaN</td>\n",
       "      <td>NaN</td>\n",
       "      <td>NaN</td>\n",
       "      <td>NaN</td>\n",
       "      <td>NaN</td>\n",
       "      <td>NaN</td>\n",
       "      <td>NaN</td>\n",
       "      <td>NaN</td>\n",
       "    </tr>\n",
       "    <tr>\n",
       "      <th>07mOFAInaIq1P8rszMkL</th>\n",
       "      <td>0.0</td>\n",
       "      <td>NaN</td>\n",
       "      <td>NaN</td>\n",
       "      <td>NaN</td>\n",
       "      <td>NaN</td>\n",
       "      <td>NaN</td>\n",
       "      <td>NaN</td>\n",
       "      <td>NaN</td>\n",
       "      <td>NaN</td>\n",
       "    </tr>\n",
       "  </tbody>\n",
       "</table>\n",
       "<p>488 rows × 9 columns</p>\n",
       "</div>"
      ],
      "text/plain": [
       "                       Deal  level10_in_bis  level20_in_bis  level30_in_bis  \\\n",
       "BusinessId                                                                    \n",
       "9d0KDpUikZmDG5NGvfD2  219.0            22.0            62.0            49.0   \n",
       "HvYkRPcooVGeK1LP1ho3  198.0            31.0            25.0            29.0   \n",
       "rwOeTHgnZL5ELr1SJkjj  159.0            12.0            29.0            42.0   \n",
       "rdWdfC8nz89l1znyG5Kl  135.0            22.0            17.0            38.0   \n",
       "DYEEEyOFJiOOZ0XVQOtL  106.0            17.0            18.0            24.0   \n",
       "...                     ...             ...             ...             ...   \n",
       "nApQVFDg4ohKjUROMYTR    0.0             NaN             NaN             NaN   \n",
       "GDYHkRYe4BnC6vxKlmVE    0.0             NaN             NaN             NaN   \n",
       "A0qHc2Y4iXcNoY4CPdyB    0.0             NaN             NaN             NaN   \n",
       "Td7H92K3ydIw0rG7mPs3    0.0             NaN             NaN             NaN   \n",
       "07mOFAInaIq1P8rszMkL    0.0             NaN             NaN             NaN   \n",
       "\n",
       "                      level40_in_bis  level50_in_bis  Deal_male  Deal_female  \\\n",
       "BusinessId                                                                     \n",
       "9d0KDpUikZmDG5NGvfD2            77.0             9.0       70.0        149.0   \n",
       "HvYkRPcooVGeK1LP1ho3            99.0            14.0       46.0        152.0   \n",
       "rwOeTHgnZL5ELr1SJkjj            57.0            19.0       44.0        115.0   \n",
       "rdWdfC8nz89l1znyG5Kl            49.0             9.0       53.0         82.0   \n",
       "DYEEEyOFJiOOZ0XVQOtL            17.0            30.0       46.0         60.0   \n",
       "...                              ...             ...        ...          ...   \n",
       "nApQVFDg4ohKjUROMYTR             NaN             NaN        NaN          NaN   \n",
       "GDYHkRYe4BnC6vxKlmVE             NaN             NaN        NaN          NaN   \n",
       "A0qHc2Y4iXcNoY4CPdyB             NaN             NaN        NaN          NaN   \n",
       "Td7H92K3ydIw0rG7mPs3             NaN             NaN        NaN          NaN   \n",
       "07mOFAInaIq1P8rszMkL             NaN             NaN        NaN          NaN   \n",
       "\n",
       "                      sum_profit  \n",
       "BusinessId                        \n",
       "9d0KDpUikZmDG5NGvfD2     23160.0  \n",
       "HvYkRPcooVGeK1LP1ho3     18860.0  \n",
       "rwOeTHgnZL5ELr1SJkjj     14970.0  \n",
       "rdWdfC8nz89l1znyG5Kl     13690.0  \n",
       "DYEEEyOFJiOOZ0XVQOtL      9670.0  \n",
       "...                          ...  \n",
       "nApQVFDg4ohKjUROMYTR         NaN  \n",
       "GDYHkRYe4BnC6vxKlmVE         NaN  \n",
       "A0qHc2Y4iXcNoY4CPdyB         NaN  \n",
       "Td7H92K3ydIw0rG7mPs3         NaN  \n",
       "07mOFAInaIq1P8rszMkL         NaN  \n",
       "\n",
       "[488 rows x 9 columns]"
      ]
     },
     "execution_count": 45,
     "metadata": {},
     "output_type": "execute_result"
    }
   ],
   "source": [
    "data_BusinessId = data_in.groupby('BusinessId')[['Deal']].sum()\n",
    "data_BusinessId['level10_in_bis'] = data_Deal.groupby('BusinessId')[['Level']].apply(lambda x:(x==10).sum()).fillna(0)\n",
    "data_BusinessId['level20_in_bis'] = data_Deal.groupby('BusinessId')[['Level']].apply(lambda x:(x==20).sum()).fillna(0)\n",
    "data_BusinessId['level30_in_bis'] = data_Deal.groupby('BusinessId')[['Level']].apply(lambda x:(x==30).sum()).fillna(0)\n",
    "data_BusinessId['level40_in_bis'] = data_Deal.groupby('BusinessId')[['Level']].apply(lambda x:(x==40).sum()).fillna(0)\n",
    "data_BusinessId['level50_in_bis'] = data_Deal.groupby('BusinessId')[['Level']].apply(lambda x:(x==50).sum()).fillna(0)\n",
    "data_BusinessId['Deal_male'] = data_Deal.groupby('BusinessId')[['Gender']].apply(lambda x:(x=='Male').sum()).fillna(0)\n",
    "data_BusinessId['Deal_female'] = data_Deal.groupby('BusinessId')[['Gender']].apply(lambda x:(x=='Female').sum()).fillna(0)\n",
    "data_BusinessId['sum_profit'] = (data_BusinessId.level10_in_bis*160)+(data_BusinessId.level20_in_bis*140)+(data_BusinessId.level30_in_bis*110)+(data_BusinessId.level40_in_bis*70)+(data_BusinessId.level50_in_bis*20)\n",
    "data_BusinessId = data_BusinessId.sort_values('Deal',ascending = False)\n",
    "data_BusinessId"
   ]
  },
  {
   "cell_type": "markdown",
   "id": "67c30e4b-bfd9-4e44-ac3a-fb2fee97c3ec",
   "metadata": {},
   "source": [
    " "
   ]
  },
  {
   "cell_type": "markdown",
   "id": "c01df57d-800b-460d-8e2e-41e565b9a080",
   "metadata": {},
   "source": [
    "### :תובנות\n",
    "\n",
    "##### רווחיות לפי זמנים\n",
    "* ניתן לראות ירידה בחודש אפריל , ככל הנראה כתוצאה מגל הפיגועים שאנשים פחדו להסתובב ברחובות או פשוט חוסר נעימות לעלות סטורי בימים אילו\n",
    "* למרות שבשבת יש פחות אסמסים , כמות העסקאות גבוהה \n",
    "* ביום שישי מספר העסקאות הוא הנמוך ביותר \n",
    "* שעות הבוקר יש מעט פעילות\n",
    "* השעות הפעילות ביותר הם בשעות אחה\"ע - זמן ארוחת ערב\n",
    "##### רווחיות לפי רמה\n",
    "* ניתן לראות שרמה 10 היא הרווחית ביותר ומהווה כ 50% מהכנסות החברה למרות שרמה 10 היא רק 7% מכלל המשפיענים \n",
    "* ניתן לראות שרמות 40 ו50 מהווים פחות מ10% מכלל ההכנסות החברה למרות שהם 63% מכלל המשפיענים\n",
    "##### רווחיות לפי מגדר\n",
    "* ניתן לראות שרבע מהמשפענים הם גברים אך הם מבצעים כשליש מכמות העסקאות ולכן הם יותר עדיפים לגיוס \n",
    "##### ריווחיות לפי קטגוריה\n",
    "* אין קורולציה בין מידת ההתאמה של תחום המשפיען לתחום העסק לבין כמות העסקאות \n",
    "* ניתן לראות שהקטגוריה שבה מידת ההתאמה של תחום המשפיען לתחום העסק הגבוהה היותר הכי אוכל\n",
    "* ניתן לראות שהרמה הדומיננטית היא דווקא רמה 10 ולא 40\n",
    "##### רווחיות לפי גיל\n",
    "* ניתן לראות שהגיל הרווחי הוא גלאי 18-34 ומשם ירידה \n"
   ]
  },
  {
   "cell_type": "code",
   "execution_count": null,
   "id": "2f78cb3b-14b7-47ae-8d90-4183a34ee3ca",
   "metadata": {},
   "outputs": [],
   "source": []
  }
 ],
 "metadata": {
  "kernelspec": {
   "display_name": "Python 3 (ipykernel)",
   "language": "python",
   "name": "python3"
  },
  "language_info": {
   "codemirror_mode": {
    "name": "ipython",
    "version": 3
   },
   "file_extension": ".py",
   "mimetype": "text/x-python",
   "name": "python",
   "nbconvert_exporter": "python",
   "pygments_lexer": "ipython3",
   "version": "3.9.7"
  }
 },
 "nbformat": 4,
 "nbformat_minor": 5
}
